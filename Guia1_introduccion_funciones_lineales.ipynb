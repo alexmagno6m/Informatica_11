{
 "cells": [
  {
   "cell_type": "markdown",
   "id": "540d0b85-4808-46ca-bb37-f7e5b3daa5c1",
   "metadata": {},
   "source": [
    "# Guía 1: Repaso General Funciones Lineales"
   ]
  },
  {
   "cell_type": "markdown",
   "id": "4794a953-0633-4c9c-9850-109754e2ca7e",
   "metadata": {},
   "source": [
    "__Ámbito conceptual:__ Funciones lineales, identificación de sus componentes<br>\n",
    "__Competencia:__ Usa ecuaciones lineales para modelar en la hoja de cálculo situaciones del mundo real propias o sugeridas <br>\n",
    "__Profesor:Alexander Acevedo Gomez__<br>\n",
    "Ingeniero de Sistemas - Universidad Nacional de Colombia <br>\n",
    "Magister en Modelado y Simulacion por Computador - Universidad Jorge Tadeo Lozano <br>\n",
    "__Telegram: @Alex6m__"
   ]
  },
  {
   "cell_type": "markdown",
   "id": "4d851a35-4726-476e-8acb-c00697333261",
   "metadata": {},
   "source": [
    "### Estableciendo el directorio de trabajo"
   ]
  },
  {
   "cell_type": "markdown",
   "id": "883d0c7e-231d-4792-af3b-441584f874d4",
   "metadata": {},
   "source": [
    "Cree las siguientes carpetas, una dentro de la otra, con la estructura que se muestra."
   ]
  },
  {
   "cell_type": "markdown",
   "id": "d469f82b-1d6d-4e4b-8c0b-e1e6134ebdcb",
   "metadata": {},
   "source": [
    "```\n",
    "📦 Datos D:\n",
    "└─ Informatica_11\n",
    "   └─ 1101\n",
    "      └─ Apellido_nombre\n",
    "```"
   ]
  },
  {
   "cell_type": "markdown",
   "id": "1e33de34-e49b-4a7e-8fe2-87ca710daf73",
   "metadata": {},
   "source": [
    "## Concepto"
   ]
  },
  {
   "cell_type": "markdown",
   "id": "ca7306a0-7f91-478d-8b28-0e3d0ed7ec58",
   "metadata": {},
   "source": [
    "Es una relación matemática (es decir existe correspondencia) entre dos variables, por ejemplo $x$, $y$, el valor de $y$ cambia en forma proporcional (aunque no siempre 1 a 1, pero si constante) a medida que cambia el valor de $x$, como resultado se obtiene una linea recta.\n",
    "\n",
    "La forma de la ecuación lineal se presenta mediante la siguiente ecuación:\n",
    "\n",
    "$$ y = mx + b $$"
   ]
  },
  {
   "cell_type": "markdown",
   "id": "fe842d1d-14e1-4cd8-8fa9-3da32fd6b871",
   "metadata": {},
   "source": [
    "![Captura_plan_trabajo.png](images/grafica-funcion-lineal.png)"
   ]
  },
  {
   "cell_type": "markdown",
   "id": "5a1ce98e-fdb7-4428-afe2-0463718d844e",
   "metadata": {},
   "source": [
    "> $m$ es la __pendiente__, en otras palabras la inclinación de la recta, entre mas grande el numero mas inclinada será\n",
    ">\n",
    "> $x$ es la __variable independiente__, aquella que se puede elegir libremente o se manipula para obtener un resultado.\n",
    ">\n",
    "> $y$ es la __variable dependiente__, es el resultado de la función.\n",
    ">\n",
    "> $b$ es el __intercepto__, también conocido como término independiente, determina el punto de corte sobre el eje $y$ del plano cartesiano."
   ]
  },
  {
   "cell_type": "markdown",
   "id": "6b8c96cc-c498-4163-a44f-bcdc32747402",
   "metadata": {},
   "source": [
    "## Interactuando con funciones lineales"
   ]
  },
  {
   "cell_type": "markdown",
   "id": "5116d26f-e402-4cab-b3ab-ad39bb3f1f91",
   "metadata": {},
   "source": [
    "En el siguiente simulador se observa con mayor claridad el funcionamiento de una función lineal y como una modificacion en la pendiente o el intercepto cambian la forma e inclinación de la gráfica."
   ]
  },
  {
   "cell_type": "markdown",
   "id": "e6a0f07d-8220-456a-bd75-2fc3953b82c6",
   "metadata": {},
   "source": [
    "> [Simulador Funcion Lineal](https://phet.colorado.edu/sims/html/graphing-slope-intercept/latest/graphing-slope-intercept_all.html)\n",
    ">\n",
    "> Fuente: PhET Simulations, proyecto de la Universidad de Colorado creado por el Nobel de Física Carl Wieman."
   ]
  },
  {
   "cell_type": "markdown",
   "id": "af293799-6064-4adb-a6d6-b0306856aa60",
   "metadata": {},
   "source": [
    "## Elaborando un Simulador Lineal en Excel"
   ]
  },
  {
   "cell_type": "markdown",
   "id": "9bf005e9-c7ef-4b62-87d7-f271845ceaf4",
   "metadata": {},
   "source": [
    "Como se ha visto antes, un simulador sirve como una herramienta de comprobación de los valores de la ecuación, aunque usualmente los ejercicios en clase se deben realizar en el proceso que se describe mas ababo, sin embargo, en Excel se puede crear un simulador lineal básico siguiendo este procedimiento:"
   ]
  },
  {
   "cell_type": "markdown",
   "id": "130a5d69-aa95-46cd-ad56-d1cd4ad4729c",
   "metadata": {},
   "source": [
    "> 1. Disponer en la columna ```A``` los valores de $x$, los cuales dependen del _valor inicial_ y el _paso o incremento_.\n",
    ">\n",
    "> 2. Separar los terminos de la ecuación, creando la siguiente tabla a partir de la celda ```D1```:"
   ]
  },
  {
   "cell_type": "markdown",
   "id": "0bb969ad-139f-443d-ac83-dc95be0f2e74",
   "metadata": {},
   "source": [
    "| Puntos de partida  | Valor |\n",
    "|--------------------|-------|\n",
    "| Valor inicial de X | -5    |\n",
    "| Paso de X          | 1     |\n",
    "| Pendiente          | Valor de $m$      |\n",
    "| Intercepto         |    Valor de $b$   |"
   ]
  },
  {
   "cell_type": "markdown",
   "id": "9c088f6d-df9a-4f5a-adc2-5e6a75c4903a",
   "metadata": {},
   "source": [
    "> 3. En la celda ```B1``` se escribe la función como es solicitada\n",
    ">    \n",
    "> 4. En ```B2```, se digita la formula:\n",
    ">    \n",
    ">    ```=$E$4*A2+$E$5```\n",
    "> \n",
    "> 5. Finalmente se arrastran las columnas ```A``` y ```B``` según lo deseado y se convierten en formato de tabla.\n",
    ">    \n",
    "> 6. Con la tabla seleccionada se grafica seleccionando _gráfico de dispersión_."
   ]
  },
  {
   "cell_type": "markdown",
   "id": "14152b4e-f265-4293-a7b6-42b952bfd744",
   "metadata": {},
   "source": [
    "### Ejemplo"
   ]
  },
  {
   "cell_type": "markdown",
   "id": "918aa85e-d43e-47e7-873a-391481e0e76c",
   "metadata": {},
   "source": [
    "Para la siguiente ecuacion:\n",
    "\n",
    "$$ y=2x+3 $$\n",
    "\n",
    "Realice la siguiente:\n",
    "1. El simulador ingresando correctamente los valores de las constantes.\n",
    "2. Establezca el _valor inicial_ en -5.\n",
    "3. Asigne el _paso_ en 1.\n",
    "4. Establezca en la columna ```A``` los valores de $x$\n",
    "5. Agregue la fórmula correspondiente.\n",
    "6. Grafique\n"
   ]
  },
  {
   "cell_type": "markdown",
   "id": "60add14f-edfc-4d8b-90f4-a1c7d1a5bebf",
   "metadata": {},
   "source": [
    "## Graficando una Función Lineal en Excel"
   ]
  },
  {
   "cell_type": "markdown",
   "id": "5aca6291-e7c3-42d4-8ceb-63c8e82bc21c",
   "metadata": {},
   "source": [
    "Existen diferentes métodos para graficar una funcion lineal en esta hoja de cálculo, el propuesto consiste en:"
   ]
  },
  {
   "cell_type": "markdown",
   "id": "98f92655-fd81-4e69-8deb-489ab9a11116",
   "metadata": {},
   "source": [
    "> 1. Disponer en la columna ```A``` los valores de $x$\n",
    ">\n",
    "> 2. Usar la columna ```B``` para transcribir la ecuación lineal, en una sintaxis que sea entendida por Excel, esto es, antecediendo el signo $=$, y reemplazando $x$ por la celda correspondiente de la columna ```A```\n",
    ">\n",
    "> 3. A partir de la celda ```D1``` realizar la siguiente tabla:"
   ]
  },
  {
   "cell_type": "markdown",
   "id": "9e3da321-65cb-41f3-ad0f-b8a5b946ebe8",
   "metadata": {},
   "source": [
    "| Puntos de partida  | Valor |\n",
    "|--------------------|-------|\n",
    "| Valor inicial de X | -5    |\n",
    "| Paso de X    | 1     |"
   ]
  },
  {
   "cell_type": "markdown",
   "id": "1a110856-790c-42a6-97a4-a6472ce3a5e9",
   "metadata": {},
   "source": [
    "> A menos que se indique lo contrario, los valores a usar siempree seran los que se muestran en la tabla.\n",
    ">\n",
    "> Finalmente, para visualizar la recta, se convierten los datos de las columnas ```A``` y ```B``` en tabla y se agrega el _gráfico de dispersión_"
   ]
  },
  {
   "cell_type": "markdown",
   "id": "12cc13fc-7050-4fd4-9406-71203bee0f85",
   "metadata": {},
   "source": [
    "## Ejercicios"
   ]
  },
  {
   "cell_type": "markdown",
   "id": "dc595b82-a4c3-4077-ac1d-8032a5a8d03b",
   "metadata": {},
   "source": [
    "Se presentan parejas de ecuaciones, en la ```Hoja3``` debe realizar la grafica de la primera ecuación a través del simulador.\n",
    "\n",
    "En la ```Hoja4``` debe graficar la segunda ecuación usando el método clásico.\n",
    "\n",
    "Únicamente debe realizar la pareja asignada."
   ]
  },
  {
   "cell_type": "markdown",
   "id": "32a20943-4295-4d34-9bfc-81a8f3431764",
   "metadata": {},
   "source": [
    "1. $\\left\\{\\begin{matrix}\n",
    "y=-2x+3 & \\\\ \n",
    "y=-4x+1\n",
    "\\end{matrix}\\right.$"
   ]
  },
  {
   "cell_type": "markdown",
   "id": "1ae77e8f-db0a-4015-9858-6e61bf532309",
   "metadata": {},
   "source": [
    "2. $\\left\\{\\begin{matrix}\n",
    "y=0.5x-2 & \\\\ \n",
    "y=-3x+5 \n",
    "\\end{matrix}\\right.$"
   ]
  },
  {
   "cell_type": "markdown",
   "id": "99a2625e-d248-4758-988c-a18b540e031a",
   "metadata": {},
   "source": [
    "3. $\\left\\{\\begin{matrix}\n",
    "y=x+2 & \\\\ \n",
    "y=-2x-4\n",
    "\\end{matrix}\\right.$"
   ]
  },
  {
   "cell_type": "markdown",
   "id": "32b0a843-0efa-4920-a3c2-4cf085e097b6",
   "metadata": {},
   "source": [
    "4. $\\left\\{\\begin{matrix}\n",
    "y=3x+1 & \\\\ \n",
    "y=-0.5x+3 \n",
    "\\end{matrix}\\right.$"
   ]
  },
  {
   "cell_type": "markdown",
   "id": "24aa3984-aaa6-466f-b0d9-9d8056b2517d",
   "metadata": {},
   "source": [
    "Finalmente, guarde su trabajo en la carpeta correspondiente con el siguiente nombre:\n",
    "\n",
    "```Guia1_Apellido_Nombre```"
   ]
  },
  {
   "cell_type": "markdown",
   "id": "13f85101-3497-40fd-93b7-578bd03e6a7b",
   "metadata": {},
   "source": [
    "Por ejemplo,"
   ]
  },
  {
   "cell_type": "markdown",
   "id": "392c62cd-b649-441b-8b20-510a6dfab1a5",
   "metadata": {},
   "source": [
    "```Guia1_Perez_Pedro```"
   ]
  }
 ],
 "metadata": {
  "kernelspec": {
   "display_name": "Python 3 (ipykernel)",
   "language": "python",
   "name": "python3"
  },
  "language_info": {
   "codemirror_mode": {
    "name": "ipython",
    "version": 3
   },
   "file_extension": ".py",
   "mimetype": "text/x-python",
   "name": "python",
   "nbconvert_exporter": "python",
   "pygments_lexer": "ipython3",
   "version": "3.12.1"
  }
 },
 "nbformat": 4,
 "nbformat_minor": 5
}
