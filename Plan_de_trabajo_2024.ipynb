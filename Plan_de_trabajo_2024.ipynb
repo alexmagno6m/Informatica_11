{
 "cells": [
  {
   "cell_type": "markdown",
   "id": "d594952b-b4cb-410f-a10f-dc9581aad5a6",
   "metadata": {},
   "source": [
    "# Plan de Trabajo 2024 Grado Undécimo"
   ]
  },
  {
   "cell_type": "markdown",
   "id": "0a4bb088-a638-4434-88e4-6a42ef0646bc",
   "metadata": {},
   "source": [
    "__Alexander Acevedo Gómez__\n",
    "\n",
    "Ingeniero de Sistemas\n",
    "\n",
    "__Universidad Nacional de Colombia__\n",
    "\n",
    "__MSc Modelado y Simulación__\n",
    "\n",
    "__Universidad Jorge Tadeo Lozano__"
   ]
  },
  {
   "cell_type": "markdown",
   "id": "6f18796c-6591-47ea-86ea-85e0dd52cd0f",
   "metadata": {},
   "source": [
    "## Introducción"
   ]
  },
  {
   "cell_type": "markdown",
   "id": "28a27912-82f4-4f39-94bf-ae0809859d04",
   "metadata": {},
   "source": [
    "Estimado estudiante: Nuestro colegio está implementando el Enfoque de Aprendizaje autónomo. Para ello, es importante que conozcas cuáles son tus fortalezas y debilidades, las inteligencias que tienes más y menos desarrolladas, las estrategias de aprendizaje que utilizas, las asignaturas que más y menos te gustan, entre otros aspectos.\n",
    "\n",
    "A continuación, vas a elaborar un Plan de trabajo con el fin de definir metas que te ayuden a superar las dificultades en la asignatura y a profundizar más en los temas que te interesan. Con base en los desempeños que tu docente te ha presentado, debes definir metas reales y alcanzables y actividades que te motiven y definir tiempos y recursos para lograrlas."
   ]
  },
  {
   "cell_type": "markdown",
   "id": "fc53ad09-b79f-4ffe-adf2-57b604a663c8",
   "metadata": {},
   "source": [
    "## Instrucciones"
   ]
  },
  {
   "cell_type": "markdown",
   "id": "333717e9-9837-4799-80ba-88d6930ef261",
   "metadata": {},
   "source": [
    "Realice el plan de trabajo en su cuaderno con los siguientes parametros para poder obtener los 4 puntos de su valor:"
   ]
  },
  {
   "cell_type": "markdown",
   "id": "24052196-cc4a-4c87-9377-678843305ee7",
   "metadata": {},
   "source": [
    "1. Realice el siguiente cuadro en una pagina completa en su cuaderno"
   ]
  },
  {
   "attachments": {},
   "cell_type": "markdown",
   "id": "be315a1f-fdd3-49ef-b68b-63a9aaa3662a",
   "metadata": {},
   "source": [
    "![Captura_plan_trabajo.png](images/Captura_plan_trabajo.png)"
   ]
  },
  {
   "cell_type": "markdown",
   "id": "403566af-e6a6-4335-8f38-f0ae0939e1c9",
   "metadata": {},
   "source": [
    "2. En la casilla __Ámbito conceptual__, copie los cuatro ambitos conceptuales del periodo actual.\n",
    "3. En la casilla __Competencias__, copie las cuatro competencias del periodo correspondiente.\n",
    "4. En __Fechas__ escriba las suministradas por el profesor.\n",
    "5. En __Pasos para alcanzar las competencias__ escriba como minimo __3 pasos por cada una de las competencias__, al final debe tener al menos 12 pasos.\n",
    "6. Escriba los recursos que considera va emplear para alcanzar las competencias, minimo 4 recursos generales\n",
    "7. Deje la casilla de autoevaluacion vacía."
   ]
  },
  {
   "cell_type": "markdown",
   "id": "43b765da-6711-456d-8e0f-93424b149131",
   "metadata": {},
   "source": [
    "|     Periodo    |     Ámbito   Conceptual                                                                                  |     Competencias   especificas                                                                                                                                                 |\n",
    "|----------------|----------------------------------------------------------------------------------------------------------|--------------------------------------------------------------------------------------------------------------------------------------------------------------------------------|\n",
    "|     1          |     Funciones lineales,   identificación de sus componentes                                              |     Usa ecuaciones   lineales para modelar en la hoja de cálculo situaciones del mundo real   propias o sugeridas                                                              |\n",
    "|                |     Tablas modernas en la   hoja de calculo                                                              |     Implementa tablas con   propiedades modernas, para representar datos de forma reactiva de acuerdo con   las necesidades del usuario                                        |\n",
    "|                |     Tablas dinámicas y   segmentación de datos                                                           |     Genera tablas   dinámicas modernas que incluyen segmentación de datos para presentarlos de   forma interactiva filtrados y seleccionados.                                  |\n",
    "|                |     Disposición   actitudinal                                                                            |     Manifiesta su   compromiso frente a su proyecto de vida a través de su puntualidad y   cumplimiento de sus deberes académicos.                                             |\n",
    "|     2          |     Estructura de un   documento académico y profesional.                                                |     Identifica las   diferentes partes de un documento académico estructurado y la relación entre   éstas.                                                                     |\n",
    "|                |     Estilos y formato de   documentos académicos según APA e IEEE                                        |     Establece eficazmente   los elementos de estilo necesarios a los títulos de un documento académico   según las normas internacionales APA e IEEE                           |\n",
    "|                |     Herramientas de   estructuración de un documento académico y profesional.                            |     Emplea con asertividad   las diferentes herramientas de referencias internas, autores e hipertextuales   dentro de un documento académico.                                 |\n",
    "|                |     Disposición   actitudinal                                                                            |     Manifiesta su   compromiso frente a su proyecto de vida a través de su puntualidad y   cumplimiento de sus deberes académicos.                                             |\n",
    "|     3          |     Java Script, modelo de   presentación de contenidos DOM                                              |     Comprende   la sintaxis de JavaScript y su integración dentro del modelo DOM de un   documento HTML identificando sus mejores usos y ventajas.                             |\n",
    "|                |     Sintaxis Básica de JavaScript,   entradas y salidas                                                  |     Crea interacciones   sencillas en una página web empleando las sentencias de JavaScript más   acertadas.                                                                   |\n",
    "|                |     Funciones en   JavaScript                                                                            |     Emplea correctamente   la sintaxis de las funciones de JavaScript para crear scripts embebidos o   enlazados de mediana complejidad que realicen la tarea especificada.    |\n",
    "|                |     Disposición   actitudinal                                                                            |     Manifiesta   su compromiso frente a su proyecto de vida a través de su puntualidad y   cumplimiento de sus deberes académicos.                                             |\n",
    "|     4          |     Java Script y CSS para   generar animaciones y mejorar la apariencia grafica de un documento HTML    |     Entiende   el manejo de JavaScript como una herramienta para enriquecer la experiencia   de los usuarios en un sitio web.                                                  |\n",
    "|                |     formularios con CSS                                                                                  |     Diseña a   través del empleo de CSS formularios web funcionales.                                                                                                           |\n",
    "|                |     Animaciones con CSS                                                                                  |     Crea   efectos o animaciones en sitios web empleando correctamente atributos CSS en conjunto   con código de JavaScript.                                                   |\n",
    "|                |     Disposición   actitudinal                                                                            |     Manifiesta   su compromiso frente a su proyecto de vida a través de su puntualidad y   cumplimiento de sus deberes académicos.                                             |"
   ]
  }
 ],
 "metadata": {
  "kernelspec": {
   "display_name": "Python 3 (ipykernel)",
   "language": "python",
   "name": "python3"
  },
  "language_info": {
   "codemirror_mode": {
    "name": "ipython",
    "version": 3
   },
   "file_extension": ".py",
   "mimetype": "text/x-python",
   "name": "python",
   "nbconvert_exporter": "python",
   "pygments_lexer": "ipython3",
   "version": "3.12.1"
  }
 },
 "nbformat": 4,
 "nbformat_minor": 5
}
