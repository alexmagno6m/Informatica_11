{
 "cells": [
  {
   "cell_type": "markdown",
   "id": "dfb95525",
   "metadata": {},
   "source": [
    "# Actividad Inicial Dashboard Parte II"
   ]
  },
  {
   "cell_type": "markdown",
   "id": "523adcc1",
   "metadata": {},
   "source": [
    "1. Copie la tabla de datos correspondiente a su curso, __en formato raw__, disponible en la pagina principal de este grado y peguela en el archivo que ha venido trabajando, en una hoja nueva.\n",
    "    - [data_1101_2](https://raw.githubusercontent.com/alexmagno6m/Informatica_11/main/data_1101_2.csv)\n",
    "    - [data_1102_2](https://raw.githubusercontent.com/alexmagno6m/Informatica_11/main/data_1102_2.csv)\n",
    "    - [data_1103_2](https://raw.githubusercontent.com/alexmagno6m/Informatica_11/main/data_1103_2.csv)\n",
    "2. Realice las siguientes operaciones:\n",
    "    1. Convierta los datos a tabla\n",
    "    2. Nombre la tabla como: \"tablaDinamica2\"\n",
    "    3. Agregue la columna \"percentage salary\", debe hallar el porcentaje salario que le corresponde a cada empleado.\n",
    "    4. Agregue la columna \"percentage sales\", debe hallar el porcentaje de \"total sales\" que le corresponde a cada empleado.\n",
    "    5. Agregue la columna \"bonus\", el cual corresponde a la diferencia entre \"salary\" y \"costs\"\n",
    "    6. Agregue la columna \"percentage bonus\" el cual corresponde al producto entre \"salary\" y \"percentage sales\"\n",
    "    7. Agregue la columna \"total salary\" que corresponde a la suma entre \"salary\" y \"percentage bonus\".\n",
    "    8. Cree una segmentacion de datos por \"gender\" y \"average grade\".\n",
    "    9. Agregue una tabla dinamica, que debe aparecer en una nueva hoja.\n",
    "    10. Por columnas seleccione \"gender\"\n",
    "    11. Por valores debe selccionar \"total sales\" y \"costs\", la operacion debe ser promedio para ambos valores.\n",
    "    12. Agregue segmentacion de datos por \"gender\"\n",
    "    13. Agregue grafico dinamico por \"columnas\"\n",
    "    14. Genere una nueva tabla dinamica, que debe aparecer en una hoja nueva.\n",
    "    15. Por columnas seleccione \"gender\"\n",
    "    16. Por valores seleccione \"average grade\", la operacion es promedio; y \"salary\" con la operacion suma.\n",
    "    17. Genere segmentacion de datos por \"gender\"\n",
    "    18. Agregue un grafico dinamico circular.\n",
    "    \n",
    "    \n",
    "    "
   ]
  }
 ],
 "metadata": {
  "kernelspec": {
   "display_name": "Python 3 (ipykernel)",
   "language": "python",
   "name": "python3"
  },
  "language_info": {
   "codemirror_mode": {
    "name": "ipython",
    "version": 3
   },
   "file_extension": ".py",
   "mimetype": "text/x-python",
   "name": "python",
   "nbconvert_exporter": "python",
   "pygments_lexer": "ipython3",
   "version": "3.9.4"
  },
  "toc": {
   "base_numbering": 1,
   "nav_menu": {},
   "number_sections": true,
   "sideBar": true,
   "skip_h1_title": false,
   "title_cell": "Table of Contents",
   "title_sidebar": "Contents",
   "toc_cell": false,
   "toc_position": {},
   "toc_section_display": true,
   "toc_window_display": false
  }
 },
 "nbformat": 4,
 "nbformat_minor": 5
}
