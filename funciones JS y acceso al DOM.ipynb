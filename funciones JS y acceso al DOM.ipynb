{
 "cells": [
  {
   "cell_type": "markdown",
   "id": "487a972b-e95f-43c1-b278-5ebd9b6c8ab5",
   "metadata": {},
   "source": [
    "# Funciones en JavaScript y su interacción con el DOM"
   ]
  },
  {
   "cell_type": "markdown",
   "id": "ff042725-2ea2-4c90-ae68-e6ed7bb0b278",
   "metadata": {},
   "source": [
    "## Funciones"
   ]
  },
  {
   "cell_type": "markdown",
   "id": "73bb1c03-8e59-4671-b494-2a0297713006",
   "metadata": {},
   "source": [
    "Las funciones son un bloque de código, que generalmente reciben datos de entrada, conocidos como __parámetros__, los procesan, y arrojan datos de salida, conocidos como __retorno__. Estos bloques de código tienen la ventaja de ser reutilizables."
   ]
  },
  {
   "cell_type": "markdown",
   "id": "65861c11-2182-4e9e-a185-6cf2b2ee87e1",
   "metadata": {},
   "source": [
    "La acción de asignar un nombre a la función, establecer sus paramétros, programar las instrucciones que realizará recibe el nombre de __definir__ la función"
   ]
  },
  {
   "cell_type": "markdown",
   "id": "16d926de-29ff-46b6-a811-6193ec24e3c5",
   "metadata": {},
   "source": [
    "El proceso de ejecutar la función para obtener los datos de salida o variables de retorno se conoce como __invocar__ la función. Cuando se invoca, los parámetros, pasan a llamarse argumentos."
   ]
  },
  {
   "cell_type": "markdown",
   "id": "50c973ff-dde3-45fb-b9c7-9f92129aab1e",
   "metadata": {},
   "source": [
    "### Ejemplos"
   ]
  },
  {
   "cell_type": "markdown",
   "id": "8e642ff1-03e3-4cd0-92d1-c64fc253c5b9",
   "metadata": {},
   "source": [
    "El siguiente caso muestra una función cuya tarea es muy simple: sumar dos números (a y b), los pasos que se siguen a continuación se repetirán para todas las demás."
   ]
  },
  {
   "cell_type": "markdown",
   "id": "ebeb23ee-7d79-422a-a848-4b9ef2358191",
   "metadata": {},
   "source": [
    "1. El primer consiste en definir la función, esto es, asignarle un nombre, para el caso del ejemplo, la llamaremos ```suma```, sin embargo, antes de escribir el nombre, debemos emplear la palabra reservada ```function```, la cual le indica a JavaScript que este nombre corresponde a una función:"
   ]
  },
  {
   "cell_type": "markdown",
   "id": "0b3de231-2d9d-4cd1-b7b8-ae5c46fa126d",
   "metadata": {},
   "source": [
    "```function suma```"
   ]
  },
  {
   "cell_type": "markdown",
   "id": "7392fb78-187c-4bf4-92da-940510747346",
   "metadata": {},
   "source": [
    "2. A continuación y entre paréntesis se deben indicar los parámetros que requiere la función como datos de entrada, es totalmente posible definir funciones sin estos elementos, sin embargo el uso del paréntisis es obligatorio. En este caso los parámetros serán ```a``` y ```b```:"
   ]
  },
  {
   "cell_type": "markdown",
   "id": "28f9875c-e1b8-4712-8609-c49b1ad7d82d",
   "metadata": {},
   "source": [
    "```(a, b)```"
   ]
  },
  {
   "cell_type": "markdown",
   "id": "fae01e71-5eb8-4f44-8bc3-7c7a78ed0d71",
   "metadata": {},
   "source": [
    "3. Dentro de los signos de llaves ```{ }```, programamos el cuerpo de la función o body, en muchos casos las operaciones que se hacen con los parámetros, deben ser almacenados en otras variables dentro del cuerpo de la función, las cuales solo son válidas dentro de ese ámbito, es decir viven y mueren en el interior de la función. Estas variables del cuerpo deben evitarse ser identificadas de la misma manera que los parámetros:"
   ]
  },
  {
   "cell_type": "markdown",
   "id": "a5e9bc1d-3595-4938-9b51-5c5a2aa3f11d",
   "metadata": {},
   "source": [
    "```let resultado = a + b```"
   ]
  },
  {
   "cell_type": "markdown",
   "id": "1acd9c72-7bc8-4e0f-8108-8e89a48fc42b",
   "metadata": {},
   "source": [
    "4. Aunque no es obligatorio, es muy recomendable definir una variable de retorno, esta será la última línea del cuerpo de la función:"
   ]
  },
  {
   "cell_type": "markdown",
   "id": "3ba683bf-7756-4790-98e9-b57fe1fd816d",
   "metadata": {},
   "source": [
    "```return resultado```"
   ]
  },
  {
   "cell_type": "markdown",
   "id": "c1cc1d70-e5b7-4bce-a1bc-25e13a5ff697",
   "metadata": {},
   "source": [
    "> La variable de retorno debe devolver el valor que nos interesa como dato de salida de la función, para este ejemplo el resultado de la suma"
   ]
  },
  {
   "cell_type": "markdown",
   "id": "791e0d62-13e2-4bfc-a560-801d4fd74a62",
   "metadata": {},
   "source": [
    "5. Finalmente, se procede a invocar, la función, que como se explicó antes es la acción de ejecutar sus intrucciones. Por lo tanto, fuera de la llave de cierre ```}```, podemos emplear la siguiente sentencia:"
   ]
  },
  {
   "cell_type": "markdown",
   "id": "167141a7-b160-41fe-be7c-e04d5ce2a727",
   "metadata": {},
   "source": [
    "```console.log(suma(6, 4))```"
   ]
  },
  {
   "cell_type": "markdown",
   "id": "cd72c678-3368-46a2-9322-962cfbecb8d5",
   "metadata": {},
   "source": [
    "> La acción de asignarle un valor a cada argumento como 6 y 4, recibe el nombre de __pasar argumentos__."
   ]
  },
  {
   "cell_type": "markdown",
   "id": "5cfec2ba-bde5-4a0e-90b3-98160c6aa1ec",
   "metadata": {},
   "source": [
    "### Funcion que convierte Metros a Kilometros"
   ]
  },
  {
   "cell_type": "markdown",
   "id": "2aa5d76d-e54c-4371-8238-b19ca15955e7",
   "metadata": {},
   "source": [
    "La siguiente función se encarga de convetir metros a kilómetros, para lo cual recibe el argumento ```metros```, ejecuta la operación correspondiente y retorna ```kilometros```:"
   ]
  },
  {
   "cell_type": "markdown",
   "id": "928548e0-f34f-49e0-bd1f-66bf553876e9",
   "metadata": {},
   "source": [
    "```\n",
    "function MetrosKilometros(metros){\n",
    "    let kilometros = metros/1000;\n",
    "    return kilometros;\n",
    "    }\n",
    "```"
   ]
  },
  {
   "cell_type": "markdown",
   "id": "64ef7750-7b83-490a-a896-0fdc2ff84e5c",
   "metadata": {},
   "source": [
    "### Variables que capturan el retorno de una funcion"
   ]
  },
  {
   "cell_type": "markdown",
   "id": "199dce5d-a90e-48a7-8c29-be9b0ee0e7f6",
   "metadata": {},
   "source": [
    "Anteriormente, invocamos la función directamente dentro de la sentencia ```console.log```, sin embargo, esto no es muy práctico, puesto que la mayoría de veces necesitamos ejecutar la función para recuperar la variable de retorno y operarla en otras instrucciones, esto se conoce como __captura del retorno de una función__ y se hace definiendo una nueva variable asignándole la función son sus argumentos."
   ]
  },
  {
   "cell_type": "markdown",
   "id": "bf13e802-abb9-4780-a120-1430d7bcdb08",
   "metadata": {},
   "source": [
    "En este caso, definimos la variable ```mt``` y dentro de la asignación se invoca la función ```MetrosKilometros```:"
   ]
  },
  {
   "cell_type": "markdown",
   "id": "bca3f671-6958-439a-aa30-c7b6e02aeee7",
   "metadata": {},
   "source": [
    "```\n",
    "let mt = MetrosKilometros(10000)\n",
    "```"
   ]
  },
  {
   "cell_type": "markdown",
   "id": "024c8289-60bd-4a12-b90a-18c38612fd54",
   "metadata": {},
   "source": [
    "Por último, nos resta obtener el retorno que se ha capturado, empleando ```console.log```."
   ]
  },
  {
   "cell_type": "markdown",
   "id": "d3710943-1939-4984-8307-ac8f4a127f0f",
   "metadata": {},
   "source": [
    "### Ejercicio 1 - 1101\n",
    "En el mismo archivo y debajo del codigo empleado resuelva los siguientes puntos."
   ]
  },
  {
   "cell_type": "markdown",
   "id": "c05cfc4d-13c7-4afa-8cf6-ef221751f392",
   "metadata": {},
   "source": [
    "#### Primer punto"
   ]
  },
  {
   "cell_type": "markdown",
   "id": "17aaf481-cddf-4ebe-a9e2-aaa665ed6cc1",
   "metadata": {},
   "source": [
    "> En cierto colegio se organizan frecuentemente _Jean Class_, los estudiantes que deseen participar deben cancelar 1500 pesos, el rector desea que usted escriba el codigo de una función que permita calcular rapidamente el valor recaudado en esa actividad, teniendo en cuenta que hay en total 1300 estudiantes. Por lo tanto: <br>\n",
    "> 1. Defina una función con el nombre ```JeanClass```\n",
    "> 2. Establezca como parámetro ```estudiantes```\n",
    "> 3. Escriba la operación necesaria para que la variable de retorno ```total``` calcule la cantidad de deniro recaudado\n",
    "> 4. Capture el retorno de la función en una nueva variable que usted identificará o nombrará libremente, pasando como argumento 1300 estudiantes.\n",
    "> 5. Muestre el resultado de la captura de retorno."
   ]
  },
  {
   "cell_type": "markdown",
   "id": "a459d309-0be0-49c8-874e-57b6cbe7aaa2",
   "metadata": {},
   "source": [
    "#### Segundo Punto"
   ]
  },
  {
   "cell_type": "markdown",
   "id": "5d930278-e3d9-469a-92ec-04035e3d4a58",
   "metadata": {},
   "source": [
    "> 1. Investigue en internet la formula para convertir Farenheit a Celsius\n",
    "> 2. Defina una funcion con el nombre \"ConversorCelsius\" con el paremetro \"farenheit\"\n",
    "> 3. Establezca en el cuerpo de la funcion la formula que investigo en el punto 1.\n",
    "> 4. Invoque la funcion pasando como argumento 122, dentro de una variable de captura que ustes identificará libremente.\n",
    "> 5. Compruebe el resultado, debe ser 50"
   ]
  },
  {
   "cell_type": "markdown",
   "id": "5947b2c9",
   "metadata": {},
   "source": [
    "#### Tercer punto"
   ]
  },
  {
   "cell_type": "markdown",
   "id": "e2220288",
   "metadata": {},
   "source": [
    "Lea con atención"
   ]
  },
  {
   "cell_type": "markdown",
   "id": "a6298bef",
   "metadata": {},
   "source": [
    "> Un restaurante cobra el 10% de propina sobre la cuanta final del consumo en cada cliente, dado lo anterior defina una función en JavaScript que:\n",
    ">\n",
    "> 1. Se indentifique como ```Cuenta_total``` y Reciba como parametro ```cuenta_parcial```.\n",
    "> 2. Establezca en el cuerpo de la función la operación para que calcule el valor de la propina según lo consumido por el ciente\n",
    "> 3. Establezca como variable de retorno ```total```, la cual debe sumar la propina y la cuenta parcial.\n",
    "> 4. Invoque la función en una variable de captura que definirá e identificará a su gusto y donde se prueba el resultado, pasando como cuenta parcial 55000.\n",
    "> 5. Compruebe el resultado, debe ser 60500."
   ]
  },
  {
   "cell_type": "markdown",
   "id": "4bfbfaa6-8870-4d01-99c1-936ce7c54df3",
   "metadata": {},
   "source": [
    "### Obtención del sello"
   ]
  },
  {
   "cell_type": "markdown",
   "id": "01e92afa-41ea-4c70-a9c4-a611e7578782",
   "metadata": {},
   "source": [
    "Escriba en su cuaderno"
   ]
  },
  {
   "cell_type": "markdown",
   "id": "1e045088-0f11-44b9-9756-e694371ce016",
   "metadata": {},
   "source": [
    "> 1. Competencia: 3\n",
    "> 2. Ámbito conceptual: Funciones en JavaScript\n",
    "> 3. Objetivo: Definir correctamente una función, empleando con acierto sus parámetros y  comprobar su funcionamiento según las condiciones dadas.\n",
    "> 4. Nombre de la actividad: Ejercicio funciones"
   ]
  },
  {
   "cell_type": "markdown",
   "id": "7ad88fa1-f5e8-4f10-86f3-82c64f962cb8",
   "metadata": {},
   "source": [
    "### Ejercicio 1 - 1103"
   ]
  },
  {
   "cell_type": "markdown",
   "id": "93a6e652-b07d-47e5-9d3a-393baadb8736",
   "metadata": {},
   "source": [
    "En el archivo que trabajo en la clase anterior agregue el codigo necesario para resolver los siguientes puntos, __debe cumplir estrictamente las condiciones de cada problema__, no emplee herramientas de IA:"
   ]
  },
  {
   "cell_type": "markdown",
   "id": "92cab91b-9200-45bc-a4dc-1403f478d7c9",
   "metadata": {},
   "source": [
    "#### Primer punto"
   ]
  },
  {
   "cell_type": "markdown",
   "id": "a5676921-64ff-48f2-8f23-f7a0b0eb31c5",
   "metadata": {},
   "source": [
    "> Funcion para concatenar (unir) nombre y apellido\n",
    ">\n",
    "> 1. Defina la función e identifiquela como ```NombreCocatenado```\n",
    "> 2. Los parámetros que debe emplear son: ```nombre``` y ```apellido```\n",
    "> 3. Establezcanos la operación  para unir ambos parámetros\n",
    "> 4. Establezca como variable de retorno ```Nombre_Completo```\n",
    "> 5. Compruebe el funcionamiento con su propio nombre y apellido, por ejemplo:\n",
    ">\n",
    "> ```console.log(NombreConcatenado(\"Pedro\", \"Perez\"))```\n",
    ">\n",
    "> Debe retornar\n",
    ">\n",
    "> ```Me llamo Pedro Perez```"
   ]
  },
  {
   "cell_type": "markdown",
   "id": "accb8884-0929-4d18-90d5-b84d03bbcaeb",
   "metadata": {},
   "source": [
    "#### Segundo punto"
   ]
  },
  {
   "cell_type": "markdown",
   "id": "7f163c15-632a-40db-ab8d-b4bb6220b1f9",
   "metadata": {},
   "source": [
    "> Función calculo cuota para compra de una PS5\n",
    ">\n",
    "> Suponga que desea calcular la cuota mensual para la compra de un articulo de entretenimiento como una PS5, que actualmente cuesta $2200000$ (version slim), la cuota se calcula con la fórmula:\n",
    ">\n",
    ">\n",
    "$\n",
    "{Cuota} = \\frac{P \\times (1 + r \\times t)}{t*12}\n",
    "$\n",
    "> Donde:\n",
    ">\n",
    ">  - ```P```  es el precio del artículo o el capital prestado, 2200000 en este caso.\n",
    "> - ```r```  es la tasa de interés simple por período (por ejemplo, si el interés anual es del 5%, entonces, escriba $0.05$\n",
    "> - ```t```  es el tiempo total del préstamo o el período de financiamiento (en años)."
   ]
  },
  {
   "cell_type": "markdown",
   "id": "d76b4a11-28be-4a3c-881e-71d64d3309f8",
   "metadata": {},
   "source": [
    "> 1. Defina la función como ```CalculoCuota```\n",
    "> 2. Debe recibir como parametros: ```r``` y ```t```.\n",
    "> 3. En el cuerpo de la función defina una nueva variable de retorno identificada como ```cuota``` __agrupe el numerador y denominador con paréntisis ademas del indicado en la expresión__.\n",
    "> 4. En ella realice el cálculo empleando la fórmula de arriba\n",
    "> 5. Compruébe la función pasandoos como argumentos una tasa de interés del 15% y un tiempo de dos años, el resultado debe ser una cuota mensual de $119166.66...$"
   ]
  },
  {
   "cell_type": "markdown",
   "id": "f9565fd3-6ef4-48bb-a130-a9d3d03a706b",
   "metadata": {},
   "source": [
    "### Punto extra\n",
    "> Modifique el codigo del segundo punto para que la función indique ademas de la cuota, el precio final del articulo que terminará pagando dada esta cuota."
   ]
  },
  {
   "cell_type": "markdown",
   "id": "ff576ad5-c411-46d2-a600-41a2fbb24763",
   "metadata": {},
   "source": [
    "### Obtención del sello"
   ]
  },
  {
   "cell_type": "markdown",
   "id": "b9d62bcd-7e11-45f4-b17e-fbc3e69d08da",
   "metadata": {},
   "source": [
    "Escriba en su cuaderno"
   ]
  },
  {
   "cell_type": "markdown",
   "id": "ab08b658-cb8e-4cf7-89ce-2701a17d63e4",
   "metadata": {},
   "source": [
    "> 1. Competencia: 1 - Cuarto Periodo\n",
    "> 2. Ámbito conceptual: Funciones en JavaScript\n",
    "> 3. Objetivo: Definir correctamente una función cumpliendo las restricciones solicitadas, empleando con acierto sus parámetros y comprobando su funcionamiento.\n",
    "> 4. Nombre de la actividad: Ejercicio funciones"
   ]
  },
  {
   "cell_type": "markdown",
   "id": "c52f0022-058e-4c8a-a3ea-ab818dda6259",
   "metadata": {},
   "source": [
    "## Acceso al DOM"
   ]
  },
  {
   "cell_type": "markdown",
   "id": "2bd9f57e-3c56-42ff-9b33-adc2ce3a24c1",
   "metadata": {},
   "source": [
    "## Cambiando el texto de un elemento HTML"
   ]
  },
  {
   "cell_type": "markdown",
   "id": "283ebda4-e014-4b8d-af26-b33e808322be",
   "metadata": {},
   "source": [
    "### I. Agregando el párrafo"
   ]
  },
  {
   "cell_type": "markdown",
   "id": "05d1b84f-22eb-4acc-93d4-fc346495d19f",
   "metadata": {},
   "source": [
    "```\n",
    "<p id=\"mensaje\">Hola, este es un párrafo.</p>\n",
    "```"
   ]
  },
  {
   "cell_type": "markdown",
   "id": "917df51e-cbb5-4d81-8bd2-7aed27b4250c",
   "metadata": {},
   "source": [
    "### II. Incluyendo el botón que efectuará la acción"
   ]
  },
  {
   "cell_type": "markdown",
   "id": "65592616-c370-48e9-b4c8-5f8cd19ed7fa",
   "metadata": {},
   "source": [
    "```\n",
    "<button onclick=\"cambiarTexto()\">Cambiar Texto</button>\n",
    "```"
   ]
  },
  {
   "cell_type": "markdown",
   "id": "75b4d06b-ed04-4666-9f31-f5be53163439",
   "metadata": {},
   "source": [
    "### III. Estableciendo el script que modifica el texto"
   ]
  },
  {
   "cell_type": "markdown",
   "id": "4dba6ddc-48f0-42e6-9404-e2a3321558c8",
   "metadata": {},
   "source": [
    "```\n",
    "function cambiarTexto() {\n",
    "    document.getElementById(\"mensaje\").innerHTML = \"El texto ha cambiado.\";\n",
    "}\n",
    "```"
   ]
  },
  {
   "cell_type": "markdown",
   "id": "55dd6554-3bd9-483b-bb03-9010f382d5d2",
   "metadata": {},
   "source": [
    "## Cambiando un estilo"
   ]
  },
  {
   "cell_type": "markdown",
   "id": "666dfed7-44e4-4dae-9efd-c66873169550",
   "metadata": {},
   "source": [
    "### I. Estableciendo el elemento HTMl correspondiente y su estilo precargado"
   ]
  },
  {
   "cell_type": "markdown",
   "id": "598110ee-6714-4f8a-95bc-d21237076d6a",
   "metadata": {},
   "source": [
    "```\n",
    "<div id=\"cuadro\" style=\"width: 100px; height: 100px; background-color: lightblue;\"></div>\n",
    "```"
   ]
  },
  {
   "cell_type": "markdown",
   "id": "3e1edc2f-0e18-4e5f-ac00-dd4973872d29",
   "metadata": {},
   "source": [
    "### II. Agregando el botón que efecturá la acción"
   ]
  },
  {
   "cell_type": "markdown",
   "id": "9ee92583-2827-47e1-a65b-3133ba1ee078",
   "metadata": {},
   "source": [
    "```\n",
    "<button onclick=\"cambiarColor()\">Cambiar Color</button>\n",
    "```"
   ]
  },
  {
   "cell_type": "markdown",
   "id": "ecc9a4d4-92d1-4416-a3fb-360a515a6ceb",
   "metadata": {},
   "source": [
    "### III. Configurando el script correspondiente"
   ]
  },
  {
   "cell_type": "markdown",
   "id": "c7b766dc-278f-4e50-ab6d-6b9505330561",
   "metadata": {},
   "source": [
    "```\n",
    "function cambiarColor() {\n",
    "    document.getElementById(\"cuadro\").style.backgroundColor = \"lightgreen\";\n",
    "}\n",
    "```"
   ]
  },
  {
   "cell_type": "markdown",
   "id": "23129878-98ff-44a2-95e1-40d951d9e56a",
   "metadata": {},
   "source": [
    "### Ejercicio 2"
   ]
  },
  {
   "cell_type": "markdown",
   "id": "f746c786-092b-44ab-8a20-b0ec7328e0bc",
   "metadata": {},
   "source": [
    "1. Agregue un elemento ```h3``` con el texto: \"Ejercicio de acceso al DOM por el id del elemento\" con el idntificador ```titulo1```.\n",
    "2. Asignele un color a la letra\n",
    "3. Agregue el boton que efectuara la accion\n",
    "4. Configure un nuevo script que cambie el color del elemento ```h3``\n",
    "5. Agregue un elemento '''article''' con una frase motivadora que desee, asigne el identificador ```articulo1```.\n",
    "6. Agregue el boton que efectuara la accion\n",
    "7. Configure un nuevo script que cambie el texto del articulo por el nombre del autor de la frase."
   ]
  },
  {
   "cell_type": "markdown",
   "id": "3d68e7a9-9522-409b-8537-977692f73a34",
   "metadata": {},
   "source": [
    "### Obtención del sello"
   ]
  },
  {
   "cell_type": "markdown",
   "id": "d2a9e170-ba12-4030-a8b1-60430cd0c997",
   "metadata": {},
   "source": [
    "Escriba en su cuaderno:"
   ]
  },
  {
   "cell_type": "markdown",
   "id": "d240b90a-a37a-47e8-80a0-e61eeda9a4df",
   "metadata": {},
   "source": [
    "> 1. Competencia: 3\n",
    "> 2. Ámbito conceptual: Funciones en JavaScript\n",
    "> 3. Objetivo: Emplear funciones de JavaScript para la incorporaccion de acciones que modifiquen los elementos del DOM por su ID y estilos.\n",
    "> 4. Nombre de la actividad: Ejercicio de scripts acceso al DOM"
   ]
  }
 ],
 "metadata": {
  "kernelspec": {
   "display_name": "Python 3 (ipykernel)",
   "language": "python",
   "name": "python3"
  },
  "language_info": {
   "codemirror_mode": {
    "name": "ipython",
    "version": 3
   },
   "file_extension": ".py",
   "mimetype": "text/x-python",
   "name": "python",
   "nbconvert_exporter": "python",
   "pygments_lexer": "ipython3",
   "version": "3.12.1"
  },
  "toc": {
   "base_numbering": 1,
   "nav_menu": {},
   "number_sections": true,
   "sideBar": true,
   "skip_h1_title": false,
   "title_cell": "Table of Contents",
   "title_sidebar": "Contents",
   "toc_cell": false,
   "toc_position": {},
   "toc_section_display": true,
   "toc_window_display": false
  }
 },
 "nbformat": 4,
 "nbformat_minor": 5
}
