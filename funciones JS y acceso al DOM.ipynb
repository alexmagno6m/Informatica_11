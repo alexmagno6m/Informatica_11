{
 "cells": [
  {
   "cell_type": "markdown",
   "id": "487a972b-e95f-43c1-b278-5ebd9b6c8ab5",
   "metadata": {},
   "source": [
    "# Funciones en JavaScript y su interacción con el DOM"
   ]
  },
  {
   "cell_type": "markdown",
   "id": "ff042725-2ea2-4c90-ae68-e6ed7bb0b278",
   "metadata": {},
   "source": [
    "## Funciones"
   ]
  },
  {
   "cell_type": "markdown",
   "id": "5cfec2ba-bde5-4a0e-90b3-98160c6aa1ec",
   "metadata": {},
   "source": [
    "### Funcion que convierte Metros a Kilometros"
   ]
  },
  {
   "cell_type": "code",
   "execution_count": 1,
   "id": "07f1c429-7e36-40d7-ae93-d35e7bac09de",
   "metadata": {
    "scrolled": true
   },
   "outputs": [
    {
     "data": {
      "application/javascript": [
       "function MetrosKilometros(metros){\n",
       "    let kilometros = metros/1000;\n",
       "    return kilometros;\n",
       "    }\n"
      ],
      "text/plain": [
       "<IPython.core.display.Javascript object>"
      ]
     },
     "metadata": {},
     "output_type": "display_data"
    }
   ],
   "source": [
    "%%javascript\n",
    "function MetrosKilometros(metros){\n",
    "    let kilometros = metros/1000;\n",
    "    return kilometros;\n",
    "    }"
   ]
  },
  {
   "cell_type": "markdown",
   "id": "64ef7750-7b83-490a-a896-0fdc2ff84e5c",
   "metadata": {},
   "source": [
    "### Variables que capturan el retorno de una funcion"
   ]
  },
  {
   "cell_type": "markdown",
   "id": "bca3f671-6958-439a-aa30-c7b6e02aeee7",
   "metadata": {},
   "source": [
    "```\n",
    "let x = MetrosKilometros(10000)\n",
    "```"
   ]
  },
  {
   "cell_type": "markdown",
   "id": "d3710943-1939-4984-8307-ac8f4a127f0f",
   "metadata": {},
   "source": [
    "### Ejercicio 1\n",
    "En el mismo archivo y debajo del codigo empleado resuelva los siguientes puntos."
   ]
  },
  {
   "cell_type": "markdown",
   "id": "c05cfc4d-13c7-4afa-8cf6-ef221751f392",
   "metadata": {},
   "source": [
    "#### Primer punto"
   ]
  },
  {
   "cell_type": "markdown",
   "id": "17aaf481-cddf-4ebe-a9e2-aaa665ed6cc1",
   "metadata": {},
   "source": [
    "> En cierto colegio se organizan frecuentemente _Jean Class_, los estudiantes que deseen participar deben cancelar 1500 pesos, el rector desea que usted escriba el codigo de una función que permita calcular rapidamente el valor recaudado en esa actividad, teniendo en cuenta que hay en total 1300 estudiantes. Por lo tanto: <br>\n",
    "> 1. Defina una función con el nombre ```JeanClass```\n",
    "> 2. Establezca como parámetro ```estudiantes```\n",
    "> 3. Escriba la operación necesaria para que la variable de retorno ```total``` calcule la cantidad de deniro recaudado\n",
    "> 4. Invoque la función pasando como argumento 1300 estudiantes."
   ]
  },
  {
   "cell_type": "markdown",
   "id": "a459d309-0be0-49c8-874e-57b6cbe7aaa2",
   "metadata": {},
   "source": [
    "#### Segundo Punto"
   ]
  },
  {
   "cell_type": "markdown",
   "id": "5d930278-e3d9-469a-92ec-04035e3d4a58",
   "metadata": {},
   "source": [
    "> 1. Investigue en internet la formula para convertir Celsius a Farenheit\n",
    "> 2. Defina una funcion con el nombre \"ConversorFarenheit\" con el paremetro \"celsius\"\n",
    "> 3. Establezca en el cuerpo de la funcion la formula que investigo en el punto 1.\n",
    "> 4. Invoque la funcion pasando como argumento 50\n",
    "> 5. Compruebe el resultado, debe ser 122"
   ]
  },
  {
   "cell_type": "markdown",
   "id": "4bfbfaa6-8870-4d01-99c1-936ce7c54df3",
   "metadata": {},
   "source": [
    "### Obtención del sello"
   ]
  },
  {
   "cell_type": "markdown",
   "id": "01e92afa-41ea-4c70-a9c4-a611e7578782",
   "metadata": {},
   "source": [
    "Escriba en su cuaderno"
   ]
  },
  {
   "cell_type": "markdown",
   "id": "ab08b658-cb8e-4cf7-89ce-2701a17d63e4",
   "metadata": {},
   "source": [
    "> 1. Competencia: 3\n",
    "> 2. Ámbito conceptual: Funciones en JavaScript\n",
    "> 3. Objetivo: Definir correctamente una función, empleando con acierto sus parámetros y  comprobar su funcionamiento según las condiciones dadas.\n",
    "> 4. Nombre de la actividad: Ejercicio funciones"
   ]
  },
  {
   "cell_type": "markdown",
   "id": "c52f0022-058e-4c8a-a3ea-ab818dda6259",
   "metadata": {},
   "source": [
    "## Acceso al DOM"
   ]
  },
  {
   "cell_type": "markdown",
   "id": "2bd9f57e-3c56-42ff-9b33-adc2ce3a24c1",
   "metadata": {},
   "source": [
    "## Cambiando el texto de un elemento HTML"
   ]
  },
  {
   "cell_type": "markdown",
   "id": "283ebda4-e014-4b8d-af26-b33e808322be",
   "metadata": {},
   "source": [
    "### I. Agregando el párrafo"
   ]
  },
  {
   "cell_type": "markdown",
   "id": "05d1b84f-22eb-4acc-93d4-fc346495d19f",
   "metadata": {},
   "source": [
    "```\n",
    "<p id=\"mensaje\">Hola, este es un párrafo.</p>\n",
    "```"
   ]
  },
  {
   "cell_type": "markdown",
   "id": "917df51e-cbb5-4d81-8bd2-7aed27b4250c",
   "metadata": {},
   "source": [
    "### II. Incluyendo el botón que efectuará la acción"
   ]
  },
  {
   "cell_type": "markdown",
   "id": "65592616-c370-48e9-b4c8-5f8cd19ed7fa",
   "metadata": {},
   "source": [
    "```\n",
    "<button onclick=\"cambiarTexto()\">Cambiar Texto</button>\n",
    "```"
   ]
  },
  {
   "cell_type": "markdown",
   "id": "75b4d06b-ed04-4666-9f31-f5be53163439",
   "metadata": {},
   "source": [
    "### III. Estableciendo el script que modifica el texto"
   ]
  },
  {
   "cell_type": "markdown",
   "id": "4dba6ddc-48f0-42e6-9404-e2a3321558c8",
   "metadata": {},
   "source": [
    "```\n",
    "function cambiarTexto() {\n",
    "    document.getElementById(\"mensaje\").innerHTML = \"El texto ha cambiado.\";\n",
    "}\n",
    "```"
   ]
  },
  {
   "cell_type": "markdown",
   "id": "55dd6554-3bd9-483b-bb03-9010f382d5d2",
   "metadata": {},
   "source": [
    "## Cambiando un estilo"
   ]
  },
  {
   "cell_type": "markdown",
   "id": "666dfed7-44e4-4dae-9efd-c66873169550",
   "metadata": {},
   "source": [
    "### I. Estableciendo el elemento HTMl correspondiente y su estilo precargado"
   ]
  },
  {
   "cell_type": "markdown",
   "id": "598110ee-6714-4f8a-95bc-d21237076d6a",
   "metadata": {},
   "source": [
    "```\n",
    "<div id=\"cuadro\" style=\"width: 100px; height: 100px; background-color: lightblue;\"></div>\n",
    "```"
   ]
  },
  {
   "cell_type": "markdown",
   "id": "3e1edc2f-0e18-4e5f-ac00-dd4973872d29",
   "metadata": {},
   "source": [
    "### II. Agregando el botón que efecturá la acción"
   ]
  },
  {
   "cell_type": "markdown",
   "id": "9ee92583-2827-47e1-a65b-3133ba1ee078",
   "metadata": {},
   "source": [
    "```\n",
    "<button onclick=\"cambiarColor()\">Cambiar Color</button>\n",
    "```"
   ]
  },
  {
   "cell_type": "markdown",
   "id": "ecc9a4d4-92d1-4416-a3fb-360a515a6ceb",
   "metadata": {},
   "source": [
    "### III. Configurando el script correspondiente"
   ]
  },
  {
   "cell_type": "markdown",
   "id": "c7b766dc-278f-4e50-ab6d-6b9505330561",
   "metadata": {},
   "source": [
    "```\n",
    "function cambiarColor() {\n",
    "    document.getElementById(\"cuadro\").style.backgroundColor = \"lightgreen\";\n",
    "}\n",
    "```"
   ]
  },
  {
   "cell_type": "markdown",
   "id": "23129878-98ff-44a2-95e1-40d951d9e56a",
   "metadata": {},
   "source": [
    "### Ejercicio 2"
   ]
  },
  {
   "cell_type": "markdown",
   "id": "f746c786-092b-44ab-8a20-b0ec7328e0bc",
   "metadata": {},
   "source": [
    "1. Agregue un elemento ```h3``` con el texto: \"Ejercicio de acceso al DOM por el id del elemento\" con el idntificador ```titulo1```.\n",
    "2. Asignele un color a la letra\n",
    "3. Agregue el boton que efectuara la accion\n",
    "4. Configure un nuevo script que cambie el color del elemento ```h3``\n",
    "5. Agregue un elemento '''article''' con una frase motivadora que desee, asigne el identificador ```articulo1```.\n",
    "6. Agregue el boton que efectuara la accion\n",
    "7. Configure un nuevo script que cambie el texto del articulo por el nombre del autor de la frase."
   ]
  },
  {
   "cell_type": "markdown",
   "id": "3d68e7a9-9522-409b-8537-977692f73a34",
   "metadata": {},
   "source": [
    "### Obtención del sello"
   ]
  },
  {
   "cell_type": "markdown",
   "id": "d2a9e170-ba12-4030-a8b1-60430cd0c997",
   "metadata": {},
   "source": [
    "Escriba en su cuaderno:"
   ]
  },
  {
   "cell_type": "markdown",
   "id": "d240b90a-a37a-47e8-80a0-e61eeda9a4df",
   "metadata": {},
   "source": [
    "> 1. Competencia: 3\n",
    "> 2. Ámbito conceptual: Funciones en JavaScript\n",
    "> 3. Objetivo: Emplear funciones de JavaScript para la incorporaccion de acciones que modifiquen los elementos del DOM por su ID y estilos.\n",
    "> 4. Nombre de la actividad: Ejercicio de scripts acceso al DOM"
   ]
  }
 ],
 "metadata": {
  "kernelspec": {
   "display_name": "Python 3 (ipykernel)",
   "language": "python",
   "name": "python3"
  },
  "language_info": {
   "codemirror_mode": {
    "name": "ipython",
    "version": 3
   },
   "file_extension": ".py",
   "mimetype": "text/x-python",
   "name": "python",
   "nbconvert_exporter": "python",
   "pygments_lexer": "ipython3",
   "version": "3.12.1"
  }
 },
 "nbformat": 4,
 "nbformat_minor": 5
}
