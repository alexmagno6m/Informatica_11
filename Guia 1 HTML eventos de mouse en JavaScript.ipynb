{
 "cells": [
  {
   "cell_type": "markdown",
   "id": "b4d7b5c4-6ad7-46e0-be07-c3b9cf67359c",
   "metadata": {},
   "source": [
    "# Guia 1 - Eventos de Mouse"
   ]
  },
  {
   "cell_type": "markdown",
   "id": "6f6effc9-1233-4176-8257-ed17cd654e1c",
   "metadata": {
    "editable": true,
    "slideshow": {
     "slide_type": ""
    },
    "tags": []
   },
   "source": [
    "### Obtencion del sello"
   ]
  },
  {
   "cell_type": "markdown",
   "id": "ea519387-eb66-4acb-a941-3b3d8168c3b3",
   "metadata": {},
   "source": [
    "Copie lo siguiente en su cuaderno:"
   ]
  },
  {
   "cell_type": "markdown",
   "id": "3f586f32-d1b4-47bf-8bb3-2c0a92d3d94b",
   "metadata": {},
   "source": [
    "- Competencia: 3\n",
    "- Ambito conceptual: Funciones de Javascript - Eventos de Mouse\n",
    "- Objetivo: Programar con acierto funciones de JavaScript que disparen eventos del Mouse de tipo mouseover y mouseout"
   ]
  },
  {
   "cell_type": "markdown",
   "id": "863ee711-7328-47e6-84f7-21400c0af752",
   "metadata": {},
   "source": [
    "### IMPORTANTE - Lea esto primero"
   ]
  },
  {
   "cell_type": "markdown",
   "id": "ada85589-f1a7-4c3d-a246-09e7d413cf15",
   "metadata": {},
   "source": [
    "> La actividad tiene que desarrollarla con base en los conocimientos adquiridos hasta la fecha, empleando unicamente los elementos ```HTML``` y comandos ```JavaScript``` vistos en clase o los que se indiquen en la presente guia, __si el codigo empleado en su actividad tiene partes generadas por IA causará la anulación de la misma y el inicio de proceso disciplinario a que hubiera lugar.__"
   ]
  },
  {
   "cell_type": "markdown",
   "id": "95e64778-7d7c-4bf9-8166-38d76647c144",
   "metadata": {},
   "source": [
    "> Al entregar la actividad se da por hecho que acepta la anterior condición"
   ]
  },
  {
   "cell_type": "markdown",
   "id": "deead0f1-4965-4ab8-8bdd-8fb0d00d7408",
   "metadata": {},
   "source": [
    "## Desarrolle lo siguiente"
   ]
  },
  {
   "cell_type": "markdown",
   "id": "191c5e71-ccac-439e-9076-9efa83a4cd7f",
   "metadata": {},
   "source": [
    "## Grado 1102"
   ]
  },
  {
   "cell_type": "markdown",
   "id": "62955a3f-40ba-46c9-826d-0b8f699051e6",
   "metadata": {},
   "source": [
    "1. En el explorador de windows cree una carpeta llamada ```actividad 2``` en su carpeta personal, observe la siguiente ruta:"
   ]
  },
  {
   "cell_type": "markdown",
   "id": "d90adb37-a177-4544-94ee-620a34f08f54",
   "metadata": {},
   "source": [
    "```\n",
    "└── Informatica 11/\n",
    "    └── Su curso/\n",
    "        └── Su nombre/\n",
    "            └── Proyectos HTML/\n",
    "                └── Actividad 2/\n",
    "```"
   ]
  },
  {
   "cell_type": "markdown",
   "id": "586cf7dd-a330-43e3-bc87-1bfa4002d8d8",
   "metadata": {},
   "source": [
    "2. En ```VSCode``` abra la carpeta creada en el paso anterior y organice el siguiente espacio de trabajo:"
   ]
  },
  {
   "cell_type": "markdown",
   "id": "819fc68a-e7a2-4da7-a605-fdce55e89d18",
   "metadata": {},
   "source": [
    "```\n",
    "└── Actividad 2/\n",
    "    ├── CSS/\n",
    "    │   └── styles.css\n",
    "    ├── JS/\n",
    "    │   ├── script1.js\n",
    "    │   ├── script2.js\n",
    "    │   └── script3.js\n",
    "    └── index.html\n",
    "```"
   ]
  },
  {
   "cell_type": "markdown",
   "id": "2170e306-7939-4668-958a-14510a73a23a",
   "metadata": {},
   "source": [
    "3. En el archivo ```index.html``` obtenga la estructura general de elementos HTML\n",
    "4. Agregue los siguientes elementos:"
   ]
  },
  {
   "cell_type": "markdown",
   "id": "4ee02c71-b256-4272-af3f-13535d4f8e51",
   "metadata": {},
   "source": [
    "- Titulo de la pagina: Actividad 2\n",
    "- Titulo ```h1```: Ejercicio eventos del mouse\n",
    "- Titulo ```h2```: Ejemplo mouseout\n",
    "- Un elemento ```div``` identicado como ```div1``` con el texto: ```Pase el mouse para cambiar el color de la letra```\n",
    "- Titulo h2: Ejemplo de eventos combinados\n",
    "- Un elemento ```div``` identicado como ```div2``` con el texto: ```Pase el mouse para mostrar un mensaje```\n",
    "- Una linea horizontal ```hr```\n",
    "- Un elemento ```div``` identicado como ```div3``` con el texto: ```Pase el mouse para cambiar el color del borde```\n",
    "- Agregue un parrafo ```p``` con un texto donde responda la siguiente pregunta: en que otra situaciones distintas a las vistas considera puede emplear los eventos de mouse en una pagina HTML?\n",
    "- Agregue dos titulos ```h3``` con su nombre y curso respectivamente"
   ]
  },
  {
   "cell_type": "markdown",
   "id": "b6663b6c-ba42-4293-8960-14834a1d5d08",
   "metadata": {},
   "source": [
    "5. Agregue antes de body la etiqueta ```<link css>``` para enlazar el archivo ```styles.css```."
   ]
  },
  {
   "cell_type": "markdown",
   "id": "2d0e732e-c0ac-444a-b734-d0a773422346",
   "metadata": {},
   "source": [
    "6. Configure los siguientes estilos en el archivo ```style.css```:"
   ]
  },
  {
   "cell_type": "markdown",
   "id": "8ab72dc3-d1d6-446e-9e4e-26950d7342a7",
   "metadata": {},
   "source": [
    "- Un color de fondo a la pagina\n",
    "- Un color para el titulo ```h1```\n",
    "- Los tres elementos div deben tener:"
   ]
  },
  {
   "cell_type": "markdown",
   "id": "f11992e6-1932-4ae6-9dfd-2a20edb9ffa3",
   "metadata": {},
   "source": [
    "> - Ancho 400 pixeles y alto de 80 pixeles\n",
    "> - Los textos deben quedar centrados horizontal y verticalmente\n",
    "> - Los ```div1``` y  ```div2``` deben tener el mismo color de fondo\n",
    "> - El ```div3``` debe tener un color de fondo diferente\n",
    "> - Todos los div deben tener borde de 2px color negro: ```border: 2px solid black```"
   ]
  },
  {
   "cell_type": "markdown",
   "id": "39ed56d1-f665-4c18-9afb-fbb5918c0585",
   "metadata": {},
   "source": [
    "- Un color para los titulos ```h3```"
   ]
  },
  {
   "cell_type": "markdown",
   "id": "0d725b47-edd1-407d-9c48-9179044b631c",
   "metadata": {},
   "source": [
    "7. No olvide escribir la etiqueta ```<script src=....>``` en cada contenedor para enlazar los diferentes archivos ```script1.js```, ```script2.js```, etc."
   ]
  },
  {
   "cell_type": "markdown",
   "id": "6366cd77-8903-41cd-a8fc-670bf64b5e24",
   "metadata": {},
   "source": [
    "8. Programe en el archivo ```script1.js``` un evento de tipo mouseover y mouseout que al pasar el mouse por encima del contenedor ```div1```, cambie el color de texto y al retirarlo regrese al color original (negro), emplee el comando:"
   ]
  },
  {
   "cell_type": "markdown",
   "id": "5abcea1a-38a6-445c-b72d-901ea438a3f7",
   "metadata": {},
   "source": [
    "```[su variable].style.color = \"#[nuevo codigo de color para el texto]\"```"
   ]
  },
  {
   "cell_type": "markdown",
   "id": "92c71650-b80a-417a-8284-cfde18a47b0d",
   "metadata": {},
   "source": [
    "9. Programe en el archivo ```script2.js``` un evento de tipo mouseover que al pasar el mouse por encima del contenedor ```div2```, muestre un mensaje creado por usted, emplee: ```alert```.\n",
    "10. Programe en el archivo ```script3.js``` un evento de tipo ```mouseover``` y ```mouseout``` que al pasar el mouse por encima del contenedor ```div3``` cambie el color del borde y al retirarlo regrese al color orignal, emplee el comando:"
   ]
  },
  {
   "cell_type": "markdown",
   "id": "aa313087-cdde-47e7-ab5a-41e0e2ef358b",
   "metadata": {},
   "source": [
    "```[su variable].style.border = \"#[codigo del color para el borde]\"```"
   ]
  }
 ],
 "metadata": {
  "kernelspec": {
   "display_name": "Python 3 (ipykernel)",
   "language": "python",
   "name": "python3"
  },
  "language_info": {
   "codemirror_mode": {
    "name": "ipython",
    "version": 3
   },
   "file_extension": ".py",
   "mimetype": "text/x-python",
   "name": "python",
   "nbconvert_exporter": "python",
   "pygments_lexer": "ipython3",
   "version": "3.12.1"
  }
 },
 "nbformat": 4,
 "nbformat_minor": 5
}
