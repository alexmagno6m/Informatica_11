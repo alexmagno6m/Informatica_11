{
 "cells": [
  {
   "cell_type": "markdown",
   "id": "9c93b529-7821-4a47-ad4a-bc173c535d26",
   "metadata": {},
   "source": [
    "# Nivelacion final de grado undecimo 2024\n",
    "## Tema 1: Analisis de regresion lineal"
   ]
  },
  {
   "cell_type": "markdown",
   "id": "71213321-595f-4841-9bf2-a96c7ffaa5f9",
   "metadata": {},
   "source": [
    "Una tienda de artículos deportivos quiere analizar la relación entre la cantidad de unidades vendidas y el gasto en publicidad (en dólares) para los últimos seis meses. El objetivo es determinar cómo influye la inversión en publicidad en las ventas y usar esta relación para predecir las ventas futuras si la tienda decide aumentar el presupuesto publicitario.\n"
   ]
  },
  {
   "cell_type": "markdown",
   "id": "c5d9c0fe-a2eb-48ec-bb8f-97dc89ff2db2",
   "metadata": {},
   "source": [
    "| Mes       | Gasto en Publicidad ($) | Unidades Vendidas |\n",
    "|-----------|--------------------------|-------------------|\n",
    "| Enero     | 500                      | 50                |\n",
    "| Febrero   | 700                      | 65                |\n",
    "| Marzo     | 800                      | 78                |\n",
    "| Abril     | 1000                     | 90                |\n",
    "| Mayo      | 1200                     | 110               |\n",
    "| Junio     | 1500                     | 130               |"
   ]
  },
  {
   "cell_type": "markdown",
   "id": "c2fafa0a-0d16-4554-ba46-5c2b636c5ec9",
   "metadata": {},
   "source": [
    "1. Crear la tabla de datos en Excel:\n",
    "Los estudiantes deben ingresar los datos en dos columnas: “Gasto en Publicidad” y “Unidades Vendidas”.\n",
    "2. Hallar la ecuación de la recta de regresión:\n",
    "Utilizando las fórmulas de Excel:\n",
    "- Usa la función PENDIENTE para calcular el coeficiente de la pendiente (m).\n",
    "- Usa la función INTERSECCIÓN.EJE para calcular el término independiente o intersección (b).\n",
    "- Formula la ecuación de la recta como:\n",
    "\n",
    "```y = mx + b```\n",
    "\n",
    "donde  y  es el número de unidades vendidas y  x  es el gasto en publicidad.\n",
    "3. Crear un gráfico de dispersión con la línea de tendencia:\n",
    "- Inserta un gráfico de dispersión para los datos y añade la línea de tendencia lineal.\n",
    "- Muestra la ecuación de la línea en el gráfico.\n",
    "4. Pronóstico de ventas futuras:\n",
    "- Usa la ecuación obtenida para predecir las unidades vendidas si el gasto en publicidad aumenta a $1800 y $2000.\n",
    "- Realiza los cálculos directamente en Excel usando la fórmula de la recta:\n",
    "\n",
    "5. Responder preguntas:\n",
    "- ¿Qué tan bien se ajusta el modelo a los datos? Calcula el coeficiente de determinación  R^2  utilizando la opción de la línea de tendencia.\n",
    "- ¿Cuál sería el incremento esperado en ventas por cada $100 adicionales invertidos en publicidad?\n"
   ]
  },
  {
   "cell_type": "markdown",
   "id": "956bb4a2-6547-40b9-a7d2-788c47ba8bda",
   "metadata": {},
   "source": [
    "## Tema 2: Documentos profesionales"
   ]
  },
  {
   "cell_type": "markdown",
   "id": "2b11bd3a-b696-443a-ae32-0f4f20a0ebd5",
   "metadata": {},
   "source": [
    "Investigue en internet  el tema de  “Evolución de la Programación Web”, estructurado correctamente utilizando estilos de título, referencias cruzadas y una sección de bibliografía.\n",
    "\n",
    "Instrucciones\n",
    "\n",
    "1. Estructura del Documento:\n",
    "- Título principal: “Evolución de la Programación Web”.\n",
    "- Subtítulos:\n",
    "- Introducción.\n",
    "- Historia de la Programación Web.\n",
    "- Tecnologías Clave en la Programación Web.\n",
    "- Conclusión.\n",
    "- Referencia cruzada: Enlazar desde la sección de Tecnologías Clave hacia la sección de Historia para relacionar conceptos.\n",
    "2. Contenido:\n",
    "- Introduce brevemente la importancia de la programación web.\n",
    "- Explica cómo han evolucionado las tecnologías, desde HTML inicial hasta frameworks modernos como React o Next.js.\n",
    "- Añade una sección con al menos dos citas o fuentes en la bibliografía."
   ]
  },
  {
   "cell_type": "markdown",
   "id": "29a71d09-f244-43e7-b5d5-9efe677a008e",
   "metadata": {},
   "source": [
    "## Tema 3: Sintaxis Basica de JavaScript"
   ]
  },
  {
   "cell_type": "markdown",
   "id": "396e0bc2-1f79-490f-b94f-b138b9848db6",
   "metadata": {},
   "source": [
    "### Ejercicio 1: Declaración y Uso de Variables\n",
    "\n",
    "Contexto:\n",
    "Un supermercado ofrece un descuento en ciertos productos. Calcula el precio final aplicando el descuento.\n",
    "\n",
    "Instrucciones:\n",
    "\n",
    "1. Declara una variable precioOriginal con el valor 100.\n",
    "2. Declara una variable descuento con el valor 20 (porcentaje).\n",
    "3. Calcula el precio final después del descuento usando las variables.\n",
    "4. Muestra el resultado en la consola."
   ]
  },
  {
   "cell_type": "markdown",
   "id": "658bf369-00c9-489e-b58d-30845336fbd7",
   "metadata": {},
   "source": [
    "### Ejercicio 2: Operaciones con Variables\n",
    "\n",
    "Contexto:\n",
    "Un granjero cuenta con dos parcelas para cultivar maíz. Quiere calcular el área total cultivada.\n",
    "\n",
    "Instrucciones:\n",
    "\n",
    "1. Declara dos variables: parcela1 y parcela2 con valores 50 y 75 (en hectáreas).\n",
    "2. Suma las áreas y almacénalas en una variable areaTotal.\n",
    "3. Muestra el área total en la consola."
   ]
  },
  {
   "cell_type": "markdown",
   "id": "0b041896-6990-43a8-8671-791a06e4e671",
   "metadata": {},
   "source": [
    "### Ejercicio 3: Definiendo e Invocando una Función Simple\n",
    "\n",
    "Contexto:\n",
    "Un estudiante necesita calcular su calificación promedio en dos materias.\n",
    "\n",
    "Instrucciones:\n",
    "\n",
    "1. Define una función calcularPromedio que reciba dos argumentos: nota1 y nota2.\n",
    "2. La función debe devolver el promedio de las dos notas.\n",
    "3. Invoca la función con los valores 85 y 92, y muestra el resultado en la consola."
   ]
  },
  {
   "cell_type": "markdown",
   "id": "bb9ca375-10d2-404b-bb87-4a42a86d64c2",
   "metadata": {},
   "source": [
    "## Tema 4: JavaScript y Acceso al DOM"
   ]
  },
  {
   "cell_type": "markdown",
   "id": "0347d16c-f9a8-4f7b-8726-799d4c16ea1e",
   "metadata": {},
   "source": [
    "### Ejercicio 1\n",
    "Un sitio web muestra un mensaje inicial en un párrafo. Cuando el usuario presiona un botón, el mensaje debe cambiar a un nuevo texto.\n",
    "\n",
    "Instrucciones:\n",
    "\n",
    "1. Crea un archivo HTML con un párrafo de texto y un botón.\n",
    "2. Escribe una función en JavaScript que cambie el texto del párrafo cuando el botón sea presionado.\n",
    "3. Utiliza getElementById para acceder al párrafo y cambiar su contenido.\n",
    "4. Al presionar el botón, el texto debe cambiar a “¡Hola, bienvenido al sitio web!”"
   ]
  },
  {
   "cell_type": "markdown",
   "id": "856d52d1-baf8-4802-bc67-aa33e915a081",
   "metadata": {},
   "source": [
    "### Ejercicio 2"
   ]
  },
  {
   "cell_type": "markdown",
   "id": "9169a6c1-0179-4e15-9996-4601992a71d6",
   "metadata": {},
   "source": [
    "Cuando un usuario hace clic en un botón, el color de fondo de la página debe cambiar a uno aleatorio.\n",
    "\n",
    "Instrucciones:\n",
    "\n",
    "1. Crea un archivo HTML con un botón en la página.\n",
    "2. Escribe una función en JavaScript que cambie el color de fondo de la página al presionar el botón.\n",
    "3. Utiliza document.body.style.backgroundColor para cambiar el color de fondo.\n",
    "4. Puedes generar colores aleatorios en JavaScript utilizando la función Math.random()."
   ]
  }
 ],
 "metadata": {
  "kernelspec": {
   "display_name": "Python 3 (ipykernel)",
   "language": "python",
   "name": "python3"
  },
  "language_info": {
   "codemirror_mode": {
    "name": "ipython",
    "version": 3
   },
   "file_extension": ".py",
   "mimetype": "text/x-python",
   "name": "python",
   "nbconvert_exporter": "python",
   "pygments_lexer": "ipython3",
   "version": "3.9.4"
  }
 },
 "nbformat": 4,
 "nbformat_minor": 5
}
