{
 "cells": [
  {
   "cell_type": "markdown",
   "id": "dc225162",
   "metadata": {},
   "source": [
    "# Registration Codes"
   ]
  },
  {
   "cell_type": "markdown",
   "id": "d9f00b9f",
   "metadata": {},
   "source": [
    "A continuacion usted encontrara el codigo que le permitira acceder a la plataforma __ClassMarker__, tenga en cuenta:\n",
    "- EL codigo es personal e intransferible\n",
    "- No use el codigo asignado a otra persona, esto le implicará sanciones\n",
    "- El codigo solo se puede usar __UNA VEZ__"
   ]
  },
  {
   "cell_type": "markdown",
   "id": "fabcca88",
   "metadata": {},
   "source": [
    "## Codigos"
   ]
  },
  {
   "cell_type": "markdown",
   "id": "071e849a",
   "metadata": {},
   "source": [
    "| Estudiante                          | Codigo         |\n",
    "|-------------------------------------|----------------|\n",
    "| BOCANEGRA ORJUELA PAULA   ALEJANDRA | 4P81158352044Q |\n",
    "| CASTILLO DUQUE   MARIA CAMILA       | GC9115835200KJ |\n",
    "| FORERO VARGAS   JILHYAN MARIANA     | 9B7115835201YX |\n",
    "| GARZON DIAZA   MARIANA              | K40115835207J9 |\n",
    "| GRANDAS RUIZ   JENNY LORENA         | 7Y61158352086R |\n",
    "| GUEVARA FORERO   EILEEN NATALIA     | VQ91158352049Y |\n",
    "| LONDOÑO CELY   JHOJAN STIVEN        | RM0115835202F4 |\n",
    "| LOZANO CAMPOS   JUAN PABLO          | A44115835200AP |\n",
    "| MARIN ARANGO   JUAN ESTEBAN         | 7D1115835200KN |\n",
    "| PACHECO   MORALES MARIA CAMILA      | PN4115835203XR |\n",
    "| PACHON JIMENEZ   NICOL ALEJANDRA    | 641115835207BE |\n",
    "| PLATA   ARCINIEGAS LAURA NATALY     | CT4115835202GG |\n",
    "| RIVERA CORONEL   YUREY VALENTINA    | T49115835203JN |\n",
    "| RODRIGUEZ   BRICEÑO DEIVID SANTIAGO | E37115835205MM |\n",
    "| RODRIGUEZ   BRICEÑO JOSTYN NICOLAS  | K73115835201PE |\n",
    "| RODRIGUEZ   GOMEZ MICHEL NATALIA    | 4A0115835202CQ |\n",
    "| ROMERO VANEGAS   HANSEL SEBASTIAN   | YX31158352007H |\n",
    "| SANTAMARIA   MARTINEZ EMILI GISELL  | EY8115835207R9 |\n",
    "| VALENZUELA   BURITICA JUAN DAVID    | 7H9115835201Q3 |\n",
    "| ZABALA ROMERO ASLY YULIETH          | BV611583520434 |"
   ]
  },
  {
   "cell_type": "markdown",
   "id": "5d268dd9",
   "metadata": {},
   "source": [
    "## Ingreso a la plataforma"
   ]
  },
  {
   "cell_type": "markdown",
   "id": "1265df71",
   "metadata": {},
   "source": [
    "Para acceder a la plataforma siga el siguiente enlace:\n",
    "\n",
    "[ClassMarker](www.classmarker.com/register/)"
   ]
  }
 ],
 "metadata": {
  "kernelspec": {
   "display_name": "Python 3 (ipykernel)",
   "language": "python",
   "name": "python3"
  },
  "language_info": {
   "codemirror_mode": {
    "name": "ipython",
    "version": 3
   },
   "file_extension": ".py",
   "mimetype": "text/x-python",
   "name": "python",
   "nbconvert_exporter": "python",
   "pygments_lexer": "ipython3",
   "version": "3.9.7"
  }
 },
 "nbformat": 4,
 "nbformat_minor": 5
}
