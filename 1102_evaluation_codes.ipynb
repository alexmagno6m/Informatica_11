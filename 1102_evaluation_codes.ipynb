{
 "cells": [
  {
   "cell_type": "markdown",
   "id": "d4931f7a",
   "metadata": {},
   "source": [
    " # Registration Codes"
   ]
  },
  {
   "cell_type": "markdown",
   "id": "3a00fb61",
   "metadata": {},
   "source": [
    "A continuacion usted encontrara el codigo que le permitira acceder a la plataforma __ClassMarker__, tenga en cuenta:\n",
    "- EL codigo es personal e intransferible\n",
    "- No use el codigo asignado a otra persona, esto le implicará sanciones\n",
    "- EL codigo solo se puede usar __UNA VEZ__"
   ]
  },
  {
   "cell_type": "markdown",
   "id": "0f7bc81a",
   "metadata": {},
   "source": [
    "| Estudiante                            | Codigo         |\n",
    "|---------------------------------------|----------------|\n",
    "| AMARILLO JIMENEZ LUNA SOFIA           | RH4115835201NK |\n",
    "| ARAUJO GONZALEZ JESUS MANUEL          | RM3115835206TJ |\n",
    "| BERMUDEZ   ALVAREZ JOSHUA ESTEVEN     | MP0115835207EN |\n",
    "| CIFUENTES   CIFUENTES KAROLL JULIANA  | PB4115835201XF |\n",
    "| FERNANDEZ   LIZARAZO SERGIO ALEXANDER | VJ4115835206XY |\n",
    "| FRANCO BERNAL   JHOSEF DAVID          | PD61158352093R |\n",
    "| GONZALEZ AVILA   DIEGO NICOLAS        | 4T3115835202YY |\n",
    "| LINARES   SALAMANCA JUAN ESTEBAN      | KV6115835203J7 |\n",
    "| MARTINEZ   GUERRA AIRAM MOISES        | 4V1115835208A4 |\n",
    "| ORTIZ RAMIREZ   JUAN CAMILO           | 962115835204R4 |\n",
    "| OYAGA VARGAS   DANIEL ANDRES          | TP4115835204GX |\n",
    "| PARRA CELIS   JUANA VALENTINA         | 6P8115835209KM |\n",
    "| PEÑA GUTIERREZ   LUISA FERNANDA       | FK411583520637 |\n",
    "| RIOS DAZA   BRAYAN FELIPE             | H641158352093B |\n",
    "| RIVEROS ROJAS KEVIN SANTIAGO          | AX7115835202FA |\n",
    "| TORREALBA PEÑA RAFAEL GREGORIO        | CM0115835204P4 |\n",
    "| UMBARIVA   GALEANO JOAN SANTIAGO      | TE6115835207AD |\n",
    "| VILLAMIZAR FRANCO NICOLAS             | EP3115835201NR |"
   ]
  },
  {
   "cell_type": "markdown",
   "id": "56a32853",
   "metadata": {},
   "source": [
    "| Estudiante                       | Codigo         |\n",
    "|----------------------------------|----------------|\n",
    "| GIRALDO GARCIA JUAN SEBASTIAN    | AX7115835202FA |\n",
    "| HERNANDEZ DIAZ   VALENTINA       | TE6115835207AD |\n",
    "| MONTILLA   BERNAL ANDREU NICOLAS | EP3115835201NR |\n",
    "| RIAÑO   VILLALOBOS WILLIAM DAVID | YV5115835204FR |"
   ]
  },
  {
   "cell_type": "markdown",
   "id": "6742ff99",
   "metadata": {},
   "source": [
    "### Registrarse en la plataforma con su codigo unico"
   ]
  },
  {
   "cell_type": "markdown",
   "id": "d7196509",
   "metadata": {},
   "source": [
    "Haga clic en el siguiente enlace:\n",
    "\n",
    "[ClassMarker](https://www.classmarker.com/register/)"
   ]
  }
 ],
 "metadata": {
  "kernelspec": {
   "display_name": "Python 3 (ipykernel)",
   "language": "python",
   "name": "python3"
  },
  "language_info": {
   "codemirror_mode": {
    "name": "ipython",
    "version": 3
   },
   "file_extension": ".py",
   "mimetype": "text/x-python",
   "name": "python",
   "nbconvert_exporter": "python",
   "pygments_lexer": "ipython3",
   "version": "3.9.7"
  }
 },
 "nbformat": 4,
 "nbformat_minor": 5
}
