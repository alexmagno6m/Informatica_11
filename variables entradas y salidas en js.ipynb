{
 "cells": [
  {
   "cell_type": "markdown",
   "id": "64bacdc9-8dac-44a9-80dc-90445a0ef778",
   "metadata": {},
   "source": [
    "# JavaScript entradas y salidas"
   ]
  },
  {
   "cell_type": "markdown",
   "id": "969ab49d-ef44-4449-8ecf-b6a1ff8f82e9",
   "metadata": {},
   "source": [
    "## Definicion de constantes"
   ]
  },
  {
   "cell_type": "markdown",
   "id": "1c66016e-efce-445e-a83c-f247a932cf6f",
   "metadata": {},
   "source": [
    "```\n",
    "const year = 2024\n",
    "```"
   ]
  },
  {
   "cell_type": "markdown",
   "id": "acc0e613-1573-4621-9fad-aa0cc71bb8c6",
   "metadata": {},
   "source": [
    "## Definición de variables"
   ]
  },
  {
   "cell_type": "markdown",
   "id": "4103701a-2012-4946-9ff8-bd0f34eefab1",
   "metadata": {},
   "source": [
    "### variables de ámbito global"
   ]
  },
  {
   "cell_type": "code",
   "execution_count": 4,
   "id": "f4a342f8-956c-49ef-b6ef-7004b496555e",
   "metadata": {},
   "outputs": [
    {
     "data": {
      "application/javascript": [
       "var name = \"Alexander\"\n"
      ],
      "text/plain": [
       "<IPython.core.display.Javascript object>"
      ]
     },
     "metadata": {},
     "output_type": "display_data"
    }
   ],
   "source": [
    "%%javascript\n",
    "var name = \"Alexander\""
   ]
  },
  {
   "cell_type": "markdown",
   "id": "d917e956-47f1-496b-a39f-76d1ed1e661d",
   "metadata": {},
   "source": [
    "### variables de ámbito local"
   ]
  },
  {
   "cell_type": "code",
   "execution_count": 6,
   "id": "fa8fa180-a67e-4102-b7ba-7fc10973aa99",
   "metadata": {},
   "outputs": [
    {
     "data": {
      "application/javascript": [
       "let day = \"sunday\"\n",
       "let hour = 2000\n",
       "let price = 500000\n",
       "let student = true\n"
      ],
      "text/plain": [
       "<IPython.core.display.Javascript object>"
      ]
     },
     "metadata": {},
     "output_type": "display_data"
    }
   ],
   "source": [
    "%%javascript\n",
    "let day = \"sunday\"\n",
    "let hour = 2000\n",
    "let price = 500000\n",
    "let student = true"
   ]
  },
  {
   "cell_type": "markdown",
   "id": "12a32871-e92e-41a7-ad56-53a908a8dcc1",
   "metadata": {},
   "source": [
    "> Emplee la sentencia ```typeof``` para obtener el tipo de variable"
   ]
  },
  {
   "cell_type": "markdown",
   "id": "301f04f6-e727-408c-a5e7-f5d952db6f4e",
   "metadata": {},
   "source": [
    "## Invocación (llamado) de variables"
   ]
  },
  {
   "cell_type": "code",
   "execution_count": 7,
   "id": "a5df5920-648d-4e3b-8a2d-0a7fb041e241",
   "metadata": {},
   "outputs": [
    {
     "data": {
      "application/javascript": [
       "let a = 50\n",
       "let b = 30\n",
       "let sum = a + b\n"
      ],
      "text/plain": [
       "<IPython.core.display.Javascript object>"
      ]
     },
     "metadata": {},
     "output_type": "display_data"
    }
   ],
   "source": [
    "%%javascript\n",
    "let a = 50\n",
    "let b = 30\n",
    "let sum = a + b"
   ]
  },
  {
   "cell_type": "markdown",
   "id": "9b2b25a7-77cc-4402-ae1a-3ddd8a2ab7fa",
   "metadata": {},
   "source": [
    "> No se pueden invocar variables que antes no se hayan definido"
   ]
  },
  {
   "cell_type": "markdown",
   "id": "ed7cffff-0ad7-44e5-862a-e197281b4c46",
   "metadata": {},
   "source": [
    "## Salidas por consola"
   ]
  },
  {
   "cell_type": "markdown",
   "id": "2351b173-c218-46ac-97e9-89f13e58b3cf",
   "metadata": {},
   "source": [
    "> Para las salidas por consola se emplea la sentencia ```console.log``` por ejemplo:"
   ]
  },
  {
   "cell_type": "markdown",
   "id": "6a24eba8-e956-4525-8788-d651318e3c56",
   "metadata": {},
   "source": [
    "```\n",
    "console.log(sum)\n",
    "```"
   ]
  },
  {
   "cell_type": "markdown",
   "id": "55b1daeb-b35e-4458-b600-900ad67968d3",
   "metadata": {},
   "source": [
    "## Combinación de textos (strings - cadenas) con variables"
   ]
  },
  {
   "cell_type": "markdown",
   "id": "f1fff181-f2bb-4782-a478-f52990442a2a",
   "metadata": {},
   "source": [
    "> Los textos siempre tienen que escribirse entre comillas ```\"```, para combinar textos con variables en una salida por consola se emplea el operador ```+``` o el signo de coma ```,```, por ejemplo:"
   ]
  },
  {
   "cell_type": "markdown",
   "id": "73539e3b-5e3b-41da-9fd0-338d12aca552",
   "metadata": {},
   "source": [
    "```\n",
    "console.log(\"Hola, \" +  name);\n",
    "```"
   ]
  },
  {
   "cell_type": "markdown",
   "id": "d1ce395c-c161-429b-aaa8-58a86f7e6281",
   "metadata": {},
   "source": [
    "### Ejercicio"
   ]
  },
  {
   "cell_type": "markdown",
   "id": "bbf05d6d-013f-4e3d-94ff-42fea1c9a653",
   "metadata": {},
   "source": [
    "1. En el mismo archivo y debajo del codigo empleado, Defina dos nuevas variables identificadas como __c__ y __d__ respectivamente, asigneles un numero diferente a cada una.\n",
    "2. Defina las variables __multi__, __div__, __resta__ y realice en cada una de ellas las operaciones correspondientes con las variables __c__ y __d__\n",
    "3. Muestre por consola el resultado de cada operacion\n",
    "4. Defina una nueva variable identificada como __age__ y asignele como valor su edad.\n",
    "5. Cree un mensaje combinado en consola que combine las variables necesarias para que muestre el texto: ```Me llamo _______ y tengo _____ años```"
   ]
  },
  {
   "cell_type": "markdown",
   "id": "59065412-535b-4fb9-9848-2f06c9b83dc1",
   "metadata": {},
   "source": [
    "### Obtención del sello"
   ]
  },
  {
   "cell_type": "markdown",
   "id": "3ccdab2c-18d2-4de3-a6d4-dce3823e2e0f",
   "metadata": {},
   "source": [
    "> 1. Competencia: 2\n",
    "> 2. Ámbito conceptual: Sintaxis Básica de JavaScript, entradas y salidas\n",
    "> 3. Objetivo: Definir correctamente variables, inicializar  y comprobar su asignación y tipo en la consola.\n",
    "> 4. Nombre de la actividad: Ejercicio definición de variables"
   ]
  },
  {
   "cell_type": "markdown",
   "id": "e97c0ca4-cdaa-4d44-9b2a-300caa3a27d6",
   "metadata": {},
   "source": [
    "## Entradas por consola"
   ]
  },
  {
   "cell_type": "markdown",
   "id": "2e41ba4b-b765-40fd-bdb2-35a5c6f7dd81",
   "metadata": {},
   "source": [
    "> Para las entradas por consola se emplea la sentencia ```prompt```, siga los pasos a continuación:\n",
    "> 1. Abra una nueva pestaña de Chrome\n",
    "> 2. Presione sin soltar las siguientes teclas: ```ctrl```+```shift```+```j```\n",
    "> 3. Copie lo siguiente:"
   ]
  },
  {
   "cell_type": "markdown",
   "id": "648bf740-bdd0-47db-84ac-5eecc47f7c40",
   "metadata": {},
   "source": [
    "```\n",
    "var nombre = prompt(\"¿Cuál es tu nombre?\");\n",
    "console.log(\"Hola, \" + nombre);\n",
    "```"
   ]
  },
  {
   "cell_type": "markdown",
   "id": "9d7b5b9a-811b-423a-8355-dc8dfa567f07",
   "metadata": {},
   "source": []
  }
 ],
 "metadata": {
  "kernelspec": {
   "display_name": "Python 3 (ipykernel)",
   "language": "python",
   "name": "python3"
  },
  "language_info": {
   "codemirror_mode": {
    "name": "ipython",
    "version": 3
   },
   "file_extension": ".py",
   "mimetype": "text/x-python",
   "name": "python",
   "nbconvert_exporter": "python",
   "pygments_lexer": "ipython3",
   "version": "3.9.4"
  }
 },
 "nbformat": 4,
 "nbformat_minor": 5
}
