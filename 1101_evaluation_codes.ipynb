{
 "cells": [
  {
   "cell_type": "markdown",
   "id": "d35172f5",
   "metadata": {},
   "source": [
    "# Registration code"
   ]
  },
  {
   "cell_type": "markdown",
   "id": "85382206",
   "metadata": {},
   "source": [
    "A continuacion usted encontrara el codigo que le permitira acceder a la plataforma __ClassMarker__, tenga en cuenta:\n",
    "- EL codigo es personal e intransferible\n",
    "- No use el codigo asignado a otra persona, esto le implicará sanciones\n",
    "- El codigo solo se puede usar __UNA VEZ__"
   ]
  },
  {
   "cell_type": "markdown",
   "id": "c25dfbc4",
   "metadata": {},
   "source": [
    "## Codigos"
   ]
  },
  {
   "cell_type": "markdown",
   "id": "2983b87f",
   "metadata": {},
   "source": [
    "| Nombre                              | Codigo         |\n",
    "|-------------------------------------|----------------|\n",
    "| AMOROCHO GARCIA JOAN SEBASTIAN      | TE51158352083D |\n",
    "| ARISTIZABAL   ESPINOZA KAREN XIMENA | CE3115835207CX |\n",
    "| BOHORQUEZ   ANGULO SHARI NICOL      | YR8115835209KN |\n",
    "| BURBANO   PATERNINA ITSJAK YAHOSHUA | AR9115835207R6 |\n",
    "| CARO SIERRA   LAURA VALENTINA       | BC8115835207MQ |\n",
    "| CARRANZA   RODRIGUEZ MARIA HELENA   | F78115835201BP |\n",
    "| COLORADO   HERRERA MIGUEL IGNACIO   | MR8115835202HT |\n",
    "| ESPITIA DIAZ   ANDRES FELIPE        | AN5115835201VN |\n",
    "| JIMENEZ MORENO   DAYYANA VALENTINA  | 3T21158352013F |\n",
    "| LOZANO FORERO   JUAN SEBASTIAN      | R35115835209F6 |\n",
    "| MARTINEZ   RODRIGUEZ NAIN JOSUE     | AT2115835205X4 |\n",
    "| MENDEZ   SANTIAGO JUAN ESTEBAN      | MV7115835203VQ |\n",
    "| MENDOZA   HERNANDEZ NICOLL DAYANA   | JQ81158352044G |\n",
    "| MOLINA   QUINTERO PAOLA VALENTINA   | YK4115835208VR |\n",
    "| MONTERO   RODRIGUEZ KEYLIN STEFANY  | FE0115835207X9 |\n",
    "| ORTIZ QUINTERO   SEBASTIAN CAMILO   | YE7115835202DX |\n",
    "| PABON CRUZ   LAURA SOFIA            | VT3115835209R7 |\n",
    "| SANCHEZ GARCIA   JAVIER ALEJANDRO   | TB11158352057T |\n",
    "| SANCHEZ   RODRIGUEZ MARIANA JULIETH | FT51158352006C |\n",
    "| TORRES GONZALEZ ANYELINA            | CR11158352003B |\n",
    "| VIELMAN PEÑA ISBETH YULIANY         | Y731158352029J |\n",
    "| VILLAMIZAR FRANCO DAVID             | QJ71158352097H |"
   ]
  },
  {
   "cell_type": "code",
   "execution_count": null,
   "id": "60b19f86",
   "metadata": {},
   "outputs": [],
   "source": []
  }
 ],
 "metadata": {
  "kernelspec": {
   "display_name": "Python 3 (ipykernel)",
   "language": "python",
   "name": "python3"
  },
  "language_info": {
   "codemirror_mode": {
    "name": "ipython",
    "version": 3
   },
   "file_extension": ".py",
   "mimetype": "text/x-python",
   "name": "python",
   "nbconvert_exporter": "python",
   "pygments_lexer": "ipython3",
   "version": "3.9.7"
  }
 },
 "nbformat": 4,
 "nbformat_minor": 5
}
