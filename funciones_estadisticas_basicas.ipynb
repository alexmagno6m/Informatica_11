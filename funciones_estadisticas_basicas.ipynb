{
 "cells": [
  {
   "cell_type": "markdown",
   "id": "acb61453-8570-4932-a2c6-af8ec86ecaef",
   "metadata": {},
   "source": [
    "# Funciones estadísticas básicas"
   ]
  },
  {
   "cell_type": "markdown",
   "id": "1163bd38-9f9e-4cb9-b50c-16ceaf150834",
   "metadata": {},
   "source": [
    "### Estructura directorio de clase"
   ]
  },
  {
   "cell_type": "markdown",
   "id": "ad47078b-e168-4d7f-9e07-14361b1491b2",
   "metadata": {},
   "source": [
    "```\n",
    "📦 Datos D:\n",
    "└─ Informatica_10\n",
    "   └─ 1001\n",
    "      └─ Apellido_nombre\n",
    "```"
   ]
  },
  {
   "cell_type": "markdown",
   "id": "a293d1e5-5520-4e41-870d-349bdbdaa740",
   "metadata": {},
   "source": [
    "Es su responsabilidad tener una copia de los trabajos realizados en clase, ya sea en una memoria USB o en un servicio de almacenamiento en la nube: Google Drive, One Drive, Dropbox, Box, etc.\n",
    "\n",
    "__Ni el profesor, ni el colegio responderán por trabajos que hayan sido eliminados de los equipos__."
   ]
  },
  {
   "cell_type": "markdown",
   "id": "7220ab0c-fc42-48ed-86e6-3f4b758e4467",
   "metadata": {},
   "source": [
    "## Temas"
   ]
  },
  {
   "cell_type": "markdown",
   "id": "b2d67832-1e6f-4cc2-a68c-fa239d7ff967",
   "metadata": {},
   "source": [
    "- Introducción a las funciones estadísticas\n",
    "- Suma\n",
    "- Max\n",
    "- Min\n",
    "- Contar\n",
    "- Contar.si\n",
    "- Promedio"
   ]
  },
  {
   "cell_type": "markdown",
   "id": "577a5182-a3d2-4964-82ed-e2ec281b1454",
   "metadata": {},
   "source": [
    "## Funciones Estadísticas"
   ]
  },
  {
   "cell_type": "markdown",
   "id": "4fc0b3d6-9ebf-4e4f-91ca-0cbb3843082f",
   "metadata": {},
   "source": [
    "Son un conjunto de herramientas que realizan calculos sobre un conjunto de datos (_Dataframe_), facilitando sus analisis para la elaboracion de informes, tomas de decisiones y obtener conclusiones."
   ]
  },
  {
   "cell_type": "markdown",
   "id": "bca3f2ab-de10-49f9-972f-97b56be8e50b",
   "metadata": {},
   "source": [
    "## Función ```suma```"
   ]
  },
  {
   "cell_type": "markdown",
   "id": "771c1393-45e6-4faf-b8d3-eb3e2e20f45d",
   "metadata": {},
   "source": [
    "Esta función se encarga de totalizar un rango de datos que recibe como argumento."
   ]
  },
  {
   "cell_type": "markdown",
   "id": "c2d69380-d362-40a4-9ba7-341a5ab90f29",
   "metadata": {},
   "source": [
    "## Función ```contar```"
   ]
  },
  {
   "cell_type": "markdown",
   "id": "1ad35885-4703-409e-84e7-97d930e479fc",
   "metadata": {},
   "source": [
    "Cuenta la cantidad total de celdas que contienen datos numericos en un rango de datos que se pasa como argumento. Esta funcion no totaliza los valores."
   ]
  },
  {
   "cell_type": "markdown",
   "id": "bd71e3d5-e1e2-4b27-b343-88eec3b1b2db",
   "metadata": {},
   "source": [
    "## Función ```contar.si```"
   ]
  },
  {
   "cell_type": "markdown",
   "id": "3be1a9fd-17f3-40d9-96ba-45aea7e06c1f",
   "metadata": {},
   "source": [
    "Cuenta el numero de celdas que coinciden o cumplen con un criterio, excluyendo a todas las demás que no lo cumplen."
   ]
  },
  {
   "cell_type": "markdown",
   "id": "c99bc913-4bb4-4434-a2ed-fbd54c4434e3",
   "metadata": {},
   "source": [
    "## Sintaxis"
   ]
  },
  {
   "attachments": {},
   "cell_type": "markdown",
   "id": "5d3bc046-bfec-40d3-a390-1976a31a9fd3",
   "metadata": {},
   "source": [
    "> ```=contar.si(rango;criterio)```\n",
    ">\n",
    "> __rango__: conjunto de celdas sobre las que se quiere aplicar la formula. <br>\n",
    "> __criterio__: condicion que deben cumplir las celdas, generalmente se expresa en terminos de los operadores de comparación o relacionales."
   ]
  },
  {
   "cell_type": "markdown",
   "id": "2cae194c-d8d7-4097-8812-2b16687048a1",
   "metadata": {},
   "source": [
    "## Función ```promedio```"
   ]
  },
  {
   "cell_type": "markdown",
   "id": "7fcdc968-bc08-4b70-8793-36a24f4642c4",
   "metadata": {},
   "source": [
    "Calcula el valor promedio de un rango de celdas que contienen datos numéricos."
   ]
  },
  {
   "cell_type": "markdown",
   "id": "4d1b85b4-82bf-4d19-9154-e2357a84964e",
   "metadata": {},
   "source": [
    "## Ejercicio"
   ]
  },
  {
   "cell_type": "markdown",
   "id": "cafb23f8-6133-4683-84fb-959cb2db1370",
   "metadata": {},
   "source": [
    "1. Copie la siguiente tabla según las instrucciones dadas por el profesor"
   ]
  },
  {
   "attachments": {},
   "cell_type": "markdown",
   "id": "10a9785e-50f9-4a51-935c-f5c90f2038c1",
   "metadata": {},
   "source": [
    "|   first_name  |   last_name         |   email                             |   gender  |   age  |   City         |   Estrato  |\n",
    "|---------------|---------------------|-------------------------------------|-----------|--------|----------------|------------|\n",
    "|   Lovell      |   Havercroft        |   lhavercroft0@instagram.com        |   Male    |   26   |   Pereira      |   3        |\n",
    "|   Staci       |   Gobeau            |   sgobeau1@infoseek.co.jp           |   Female  |   48   |   Medellin     |   4        |\n",
    "|   Rollo       |   Findlater         |   rfindlater2@apple.com             |   Male    |   22   |   Bogota       |   1        |\n",
    "|   Carmelita   |   Presnell          |   cpresnell3@marketwatch.com        |   Female  |   18   |   Cali         |   5        |\n",
    "|   Jacqui      |   Strathe           |   jstrathe4@psu.edu                 |   Female  |   3    |   Bucaramanga  |   3        |\n",
    "|   Spense      |   Girardy           |   sgirardy5@google.co.jp            |   Male    |   68   |   Pereira      |   4        |\n",
    "|   Gaynor      |   Elles             |   gelles6@dropbox.com               |   Female  |   61   |   Armenia      |   1        |\n",
    "|   Abel        |   Flahy             |   aflahy7@a8.net                    |   Male    |   30   |   Bucaramanga  |   2        |\n",
    "|   Gerek       |   Geistbeck         |   ggeistbeck8@networksolutions.com  |   Male    |   62   |   Armenia      |   5        |\n",
    "|   Royce       |   Petlyura          |   rpetlyura9@google.it              |   Male    |   63   |   Bucaramanga  |   4        |\n",
    "|   Deana       |   Phelip            |   dphelipa@etsy.com                 |   Female  |   21   |   Santa Marta  |   3        |\n",
    "|   Rolf        |   Riggs             |   rriggsb@blogtalkradio.com         |   Male    |   23   |   Santa Marta  |   4        |\n",
    "|   Bernardo    |   Parnall           |   bparnallc@cdc.gov                 |   Male    |   61   |   Santa Marta  |   6        |\n",
    "|   Debbie      |   Husselbee         |   dhusselbeed@seattletimes.com      |   Female  |   68   |   Pereira      |   3        |\n",
    "|   Willow      |   Cotty             |   wcottye@ucla.edu                  |   Female  |   100  |   Pereira      |   1        |\n",
    "|   Demetri     |   Abramin           |   dabraminf@ca.gov                  |   Male    |   90   |   Santa Marta  |   2        |\n",
    "|   Jeanine     |   Pidler            |   jpidlerg@nifty.com                |   Female  |   53   |   Bogota       |   4        |\n",
    "|   Malinda     |   Doble             |   mdobleh@blogs.com                 |   Female  |   91   |   Bucaramanga  |   6        |\n",
    "|   Mick        |   Guille            |   mguillei@addthis.com              |   Male    |   14   |   Santa Marta  |   6        |\n",
    "|   Tera        |   Matushevich       |   tmatushevichj@uol.com.br          |   Female  |   36   |   Bucaramanga  |   1        |\n",
    "|   Stanislaw   |   Andrivot          |   sandrivotk@mapy.cz                |   Male    |   98   |   Bucaramanga  |   6        |\n",
    "|   Tremain     |   Blandford         |   tblandfordl@businessinsider.com   |   Male    |   56   |   Medellin     |   2        |\n",
    "|   Ive         |   Lehmann           |   ilehmannm@japanpost.jp            |   Male    |   39   |   Bogota       |   1        |\n",
    "|   Lana        |   Paulou            |   lpauloun@jigsy.com                |   Female  |   5    |   Pereira      |   5        |\n",
    "|   Duky        |   Ondrus            |   dondruso@wikipedia.org            |   Male    |   93   |   Cali         |   4        |\n",
    "|   Hamil       |   Van Der Straaten  |   hvanderstraatenp@imageshack.us    |   Male    |   36   |   Medellin     |   2        |\n",
    "|   Sampson     |   O'Kenny           |   sokennyq@jimdo.com                |   Male    |   20   |   Pereira      |   3        |\n",
    "|   Jacqueline  |   Simonnet          |   jsimonnetr@cnbc.com               |   Female  |   47   |   Bucaramanga  |   3        |\n",
    "|   Wood        |   Antcliff          |   wantcliffs@surveymonkey.com       |   Male    |   61   |   Pereira      |   2        |\n",
    "|   Kristine    |   Stormonth         |   kstormontht@cdc.gov               |   Female  |   50   |   Bogota       |   5        |"
   ]
  },
  {
   "cell_type": "markdown",
   "id": "1b0896d9-f731-4e5e-914d-f7542e19042e",
   "metadata": {},
   "source": [
    "2. Convierta los datos en tabla según lo visto en clase.\n",
    "3. Agregue una fila de totales\n",
    "4. En la columna ```I``` agregue la siguiente tabla"
   ]
  },
  {
   "cell_type": "markdown",
   "id": "486be537-44d1-4ff5-bff0-aa83e86ea38a",
   "metadata": {},
   "source": [
    "| Análisis estadístico              | Función empleada | Resultado |\n",
    "|-----------------------------------|------------------|-----------|\n",
    "| Promedio de edad                  |                  |           |\n",
    "| Promedio de estrato               |                  |           |\n",
    "| Cantidad de hombres               |                  |           |\n",
    "| Cantidad de mujeres               |                  |           |\n",
    "| Cantidad de personas de Bogotá    |                  |           |\n",
    "| Cantidad de personas de estrato 3 |                  |           |"
   ]
  },
  {
   "cell_type": "markdown",
   "id": "5875e470-3174-4c10-b806-56f43a382570",
   "metadata": {},
   "source": [
    "5. Escriba en la columna ```Función empleada``` el nombre de la función que va utilizar para calcular los datos.\n",
    "6. Calcule en la columna ```Resultado``` los datos que se soliciten\n",
    "7. Copie en su cuaderno la sintaxis de las formulas que utilizó en el punto 6.\n",
    "8. Guarde su trabajo con el siguiente nombre:"
   ]
  },
  {
   "cell_type": "markdown",
   "id": "b0e85c2b-3d70-4006-856d-16e3ec13ef62",
   "metadata": {},
   "source": [
    "> __g1_funciones_estadisticas_Apellido_Nombre___, por ejemplo:\n",
    ">\n",
    "> __g1_funciones_estadisticas_Perez_Pedro__"
   ]
  }
 ],
 "metadata": {
  "kernelspec": {
   "display_name": "Python 3 (ipykernel)",
   "language": "python",
   "name": "python3"
  },
  "language_info": {
   "codemirror_mode": {
    "name": "ipython",
    "version": 3
   },
   "file_extension": ".py",
   "mimetype": "text/x-python",
   "name": "python",
   "nbconvert_exporter": "python",
   "pygments_lexer": "ipython3",
   "version": "3.12.1"
  }
 },
 "nbformat": 4,
 "nbformat_minor": 5
}
