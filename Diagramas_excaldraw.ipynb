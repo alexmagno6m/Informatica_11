{
 "cells": [
  {
   "cell_type": "markdown",
   "id": "bee5120d-466b-4792-98ff-8daff1e6c980",
   "metadata": {},
   "source": [
    "# Variables"
   ]
  },
  {
   "cell_type": "markdown",
   "id": "2250fad7-0734-4fca-a6cc-43f4b1468f19",
   "metadata": {},
   "source": [
    "## Tipos de datos"
   ]
  },
  {
   "cell_type": "markdown",
   "id": "8648bf82-1961-49d7-ac6f-77854c400385",
   "metadata": {},
   "source": [
    "[realizar diagrama](https://excalidraw.com/#json=uYsVnJphALWnG1xJ4ma9A,vLymF7P8F8n31l468S3O0g)"
   ]
  },
  {
   "cell_type": "markdown",
   "id": "10e23a83-879b-477d-8e56-fd35a1b14e79",
   "metadata": {},
   "source": [
    "## Componentes variables"
   ]
  },
  {
   "cell_type": "markdown",
   "id": "a82b2229-81f8-4de5-b749-3b82e4326400",
   "metadata": {},
   "source": [
    "[realizar diagrama](https://excalidraw.com/#json=nBJ8CSRsd8aTYcj109UUB,7D76v2Bai_XISYbduIvsmQ)"
   ]
  }
 ],
 "metadata": {
  "kernelspec": {
   "display_name": "Python 3 (ipykernel)",
   "language": "python",
   "name": "python3"
  },
  "language_info": {
   "codemirror_mode": {
    "name": "ipython",
    "version": 3
   },
   "file_extension": ".py",
   "mimetype": "text/x-python",
   "name": "python",
   "nbconvert_exporter": "python",
   "pygments_lexer": "ipython3",
   "version": "3.9.4"
  }
 },
 "nbformat": 4,
 "nbformat_minor": 5
}
