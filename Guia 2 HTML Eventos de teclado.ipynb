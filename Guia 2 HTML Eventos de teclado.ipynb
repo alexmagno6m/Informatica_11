{
 "cells": [
  {
   "cell_type": "markdown",
   "id": "4f96eac2-20cc-407e-9aee-e5ce4c15e69f",
   "metadata": {},
   "source": [
    "# Guia 2 - Eventos de Teclado"
   ]
  },
  {
   "cell_type": "markdown",
   "id": "6fbb1b97-d526-4fb6-81d2-03d6efeb4fc0",
   "metadata": {},
   "source": [
    "- __Profesor: Alexander Acecedo Gómez__\n",
    "- __Ingeniero de sistemas__\n",
    "- __Magister en Modelado y Simulación__\n",
    "- @Alex6m"
   ]
  },
  {
   "cell_type": "markdown",
   "id": "aeb4d9c9-6073-47e7-926b-5541ba9443e1",
   "metadata": {},
   "source": [
    "## Ejemplo - La caja mágica"
   ]
  },
  {
   "cell_type": "markdown",
   "id": "d666ba4f-7cf7-411f-93e6-5dcff30286f5",
   "metadata": {},
   "source": [
    "El objetivo del ejemplo es construir un div que reaccione a diferentes teclas cambiando su apariencia: fondo, borde, tipo de texto."
   ]
  },
  {
   "cell_type": "markdown",
   "id": "278e3abd-2189-4b9f-ad6c-0c357bec31ac",
   "metadata": {},
   "source": [
    "1. Creamos la carpeta `Ejemplo eventos keyboard`:"
   ]
  },
  {
   "cell_type": "markdown",
   "id": "a6ef8dfd-23e5-423e-b876-45fdd81d610c",
   "metadata": {},
   "source": [
    "```\n",
    "└── Informatica 11/\n",
    "    └── Su curso/\n",
    "        └── Su nombre/\n",
    "            └── Proyectos HTML/\n",
    "                └── Ejemplo eventos keyboard/\n",
    "```"
   ]
  },
  {
   "cell_type": "markdown",
   "id": "0250d728-a356-42ce-8ed2-bfc10db72e87",
   "metadata": {},
   "source": [
    "2. En `VS Code` abrimos la carpeta creada en el paso anterior y configuramos el siguiente espacio de trabajo:"
   ]
  },
  {
   "cell_type": "markdown",
   "id": "da3583bc-873c-4cc1-87a2-0f991ffd4af1",
   "metadata": {},
   "source": [
    "```\n",
    "└── Ejemplo eventos keyboard/\n",
    "    ├── css/\n",
    "    │   └── styles.css\n",
    "    ├── js/\n",
    "    │   └── script.js\n",
    "    └── index.html\n",
    "```"
   ]
  },
  {
   "cell_type": "markdown",
   "id": "b879048f-0711-4594-a46b-0cf13659b669",
   "metadata": {},
   "source": [
    "3. Como título a la página escribimos: Eventos de keyboard\n",
    "4. Como título `h1`: Ejemplo eventos de keyboard\n",
    "5. Agregamos un `div` con el `id=\"caja_magica\"`\n",
    "6. Dentro del contenedor agregamos el texto: `Pulsa R, G o B`\n",
    "7. Ahora en el archivo `styles.css` configuramos las propiedades necesarias para configurar el `div` así:"
   ]
  },
  {
   "cell_type": "markdown",
   "id": "e487bd5b-7a58-41c7-accc-1c5552863e23",
   "metadata": {},
   "source": [
    "> - ancho 350px, alto 150px\n",
    "> - Un color de fondo\n",
    "> - texto centrado horizontal y verticalmente\n",
    "> - tamaño de fuente: `20px`\n",
    "> - color de fuente: `white`\n",
    "> - Borde de 5px linea continua color negro"
   ]
  },
  {
   "cell_type": "markdown",
   "id": "c77c939a-130a-43dc-9b30-4d650b7884ac",
   "metadata": {},
   "source": [
    "8. Enlazamos los estilos y el script en las etiquetas correspondientes"
   ]
  },
  {
   "cell_type": "markdown",
   "id": "05102a44-a847-4449-b5b2-e172cdfdcd68",
   "metadata": {},
   "source": [
    "### Funcionamiento del Script"
   ]
  },
  {
   "cell_type": "markdown",
   "id": "ab78ca20-bfe1-46bd-a70a-3aefaffbad90",
   "metadata": {},
   "source": [
    "El script debe reaccionar al presionar las teclas R, G o B del teclado, de la siguiente manera:\n",
    "\n",
    "- Tecla `r`: cambia el color del fondo\n",
    "- Tecla `g`: cambia el color del texto\n",
    "- Tecla `b`: cambia el color del borde"
   ]
  },
  {
   "cell_type": "markdown",
   "id": "dd68dc30-6810-46b4-8a96-22abc944325e",
   "metadata": {},
   "source": [
    "En el archivo `script.js` programamos el código de JavaScript para cumplir con las tres condiciones, en esta ocasión debemos emplear las estructuras condicionales `if` - `else if` (si, sino), las cuales funcionan en bloques delimitados con llaves `{ }`"
   ]
  },
  {
   "cell_type": "markdown",
   "id": "fdf5bee7-8a26-4a73-bcc9-89bd03c238e3",
   "metadata": {},
   "source": [
    "> Las estructuras condicionales en programación evalúan una o más condiciones, si la condición se cumple (true) y resulta verdadera o por el contrario, es false (false) se tomarán diferentes acciones según el caso."
   ]
  },
  {
   "cell_type": "markdown",
   "id": "91ed81c4-19e2-481f-ae6f-e42a28a8ab93",
   "metadata": {},
   "source": [
    "1. Creamos una constante con un nombre válido:\n",
    "```const caja = document.getElementById(\"caja_magica\");```"
   ]
  },
  {
   "cell_type": "markdown",
   "id": "c97ee295-5df7-4c60-8e1d-aad116ef6a26",
   "metadata": {},
   "source": [
    "2. Empleamos el método `addEventListener` se indica un evento de teclado `keydown` (al presionar una tecla). Al mismo tiempo, definimos la función que leerá el evento, indicando las acciones a seguir según la tecla que se presione:"
   ]
  },
  {
   "cell_type": "markdown",
   "id": "8b0e37fb-582a-44ce-b45e-e93d145fabff",
   "metadata": {},
   "source": [
    "```\n",
    "document.addEventListener(\"keydown\", function(event) {\n",
    "    if (event.key == \"r\" || event.key == \"R\") {\n",
    "        caja.style.backgroundColor = \"violet\";\n",
    "    }\n",
    "    else if (event.key == \"g\" || event.key == \"G\"){\n",
    "        caja.style.color = \"red\";\n",
    "    }\n",
    "    else if (event.key == \"b\" || event.key == \"B\"){\n",
    "        caja.style.borderColor= \"blue\";\n",
    "    }\n",
    "    }\n",
    ")\n",
    "```"
   ]
  },
  {
   "cell_type": "markdown",
   "id": "75d37f78-dd00-4fb3-b376-7bda042f30e1",
   "metadata": {},
   "source": [
    "> El símbolo `||` conocido como _pipeline_ también _barra vertical_. Actúa empleando la conjunción `o`, es decir, al leerlo en nuestro lenguaje seria algo como: _si se presiona la tecla \"r\" (minúscula) __o__ la recla \"R\" (mayúscula) el estilo de color de fondo cambia al valor `violet`_.\n",
    ">\n",
    "> De la misma forma sucede con las letras \"g\" y \"b\""
   ]
  },
  {
   "cell_type": "markdown",
   "id": "ace62c91-3f78-4dba-b7b2-b207d61abe21",
   "metadata": {},
   "source": [
    "Al comprobar la ejecución de la página web, el contenedor `div` cambia las propiedades de estilo requeridas para el ejemplo."
   ]
  },
  {
   "cell_type": "markdown",
   "id": "70008bd7-369a-4e46-9b67-296aac9a4554",
   "metadata": {},
   "source": [
    "> El anterior ejemplo también puede resolverse empleando el operador ternario `?`, el cual se tratará más adelante."
   ]
  },
  {
   "cell_type": "markdown",
   "id": "cda38dee-8ed1-42a8-af4b-33c3a98fbde1",
   "metadata": {},
   "source": [
    "### Conteste en su cuaderno:"
   ]
  },
  {
   "cell_type": "markdown",
   "id": "67854ad2-db9a-446d-934b-f8d4c511eedd",
   "metadata": {},
   "source": [
    "1. Según lo explicado en esta guía, indique por qué es necesario emplear el símbolo `||`\n",
    "2. Que sucedería si no se empleara el símbolo `||` en el programa planteado?"
   ]
  },
  {
   "cell_type": "markdown",
   "id": "b1508d69-0f06-4eee-8079-54e3f6fd7270",
   "metadata": {},
   "source": [
    "### Obtención del sello - ejemplo"
   ]
  },
  {
   "cell_type": "markdown",
   "id": "71b48fea-1c27-44ab-9dd9-7b7709b1fe03",
   "metadata": {},
   "source": [
    "- Competencia: 3\n",
    "- Ámbito conceptual: funciones en JavaScript\n",
    "- Objetivo: Seguir correctamente las instrucciones indicadas en la presente guía según las indicaciones del profesor, para la presentación de un ejemplo donde se emplea eventos de teclado aplicados a estilos."
   ]
  }
 ],
 "metadata": {
  "kernelspec": {
   "display_name": "Python 3 (ipykernel)",
   "language": "python",
   "name": "python3"
  },
  "language_info": {
   "codemirror_mode": {
    "name": "ipython",
    "version": 3
   },
   "file_extension": ".py",
   "mimetype": "text/x-python",
   "name": "python",
   "nbconvert_exporter": "python",
   "pygments_lexer": "ipython3",
   "version": "3.12.1"
  }
 },
 "nbformat": 4,
 "nbformat_minor": 5
}
