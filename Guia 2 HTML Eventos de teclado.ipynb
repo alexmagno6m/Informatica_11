{
 "cells": [
  {
   "cell_type": "markdown",
   "id": "4f96eac2-20cc-407e-9aee-e5ce4c15e69f",
   "metadata": {},
   "source": [
    "# Guia 2 - Eventos de Teclado"
   ]
  },
  {
   "cell_type": "markdown",
   "id": "6fbb1b97-d526-4fb6-81d2-03d6efeb4fc0",
   "metadata": {},
   "source": [
    "- __Profesor: Alexander Acecedo Gómez__\n",
    "- __Ingeniero de sistemas__\n",
    "- __Magister en Modelado y Simulación__\n",
    "- @Alex6m"
   ]
  },
  {
   "cell_type": "markdown",
   "id": "54182667-3d8a-4e61-b981-ef441631ce3d",
   "metadata": {},
   "source": [
    "### Obtención del sello - ejemplo"
   ]
  },
  {
   "cell_type": "markdown",
   "id": "ea9b14ca-2eef-4d82-ad27-526d9d48b0c8",
   "metadata": {},
   "source": [
    "- Competencia: 3\n",
    "- Ámbito conceptual: funciones en JavaScript\n",
    "- Objetivo: Seguir correctamente las instrucciones indicadas en la presente guía según las indicaciones del profesor, para la presentación de un ejemplo donde se emplea eventos de teclado aplicados a estilos."
   ]
  },
  {
   "cell_type": "markdown",
   "id": "aeb4d9c9-6073-47e7-926b-5541ba9443e1",
   "metadata": {},
   "source": [
    "# Ejemplo - La caja mágica"
   ]
  },
  {
   "cell_type": "markdown",
   "id": "d666ba4f-7cf7-411f-93e6-5dcff30286f5",
   "metadata": {},
   "source": [
    "El objetivo del ejemplo es construir un `div` que reaccione a diferentes teclas cambiando su apariencia: fondo, borde, tipo de texto."
   ]
  },
  {
   "cell_type": "markdown",
   "id": "afdf5e71-f11d-4f4f-ba32-64287df254d8",
   "metadata": {},
   "source": [
    "## Primera parte: Creación de los archivos HTML y CSS"
   ]
  },
  {
   "cell_type": "markdown",
   "id": "278e3abd-2189-4b9f-ad6c-0c357bec31ac",
   "metadata": {},
   "source": [
    "1. Creamos la carpeta: `Ejemplo eventos keyboard` en su folder personal:"
   ]
  },
  {
   "cell_type": "markdown",
   "id": "a6ef8dfd-23e5-423e-b876-45fdd81d610c",
   "metadata": {},
   "source": [
    "```\n",
    "└── Informatica 11/\n",
    "    └── Su curso/\n",
    "        └── Su nombre/\n",
    "            └── Proyectos HTML/\n",
    "                └── Ejemplo eventos keyboard/\n",
    "```"
   ]
  },
  {
   "cell_type": "markdown",
   "id": "0250d728-a356-42ce-8ed2-bfc10db72e87",
   "metadata": {},
   "source": [
    "2. En `VS Code` abrimos la carpeta creada en el paso anterior y configuramos el siguiente espacio de trabajo:"
   ]
  },
  {
   "cell_type": "markdown",
   "id": "da3583bc-873c-4cc1-87a2-0f991ffd4af1",
   "metadata": {},
   "source": [
    "```\n",
    "└── Ejemplo eventos keyboard/\n",
    "    ├── css/\n",
    "    │   └── styles.css\n",
    "    ├── js/\n",
    "    │   └── script.js\n",
    "    └── index.html\n",
    "```"
   ]
  },
  {
   "cell_type": "markdown",
   "id": "eb072971-7670-4604-baa2-62e5e3581274",
   "metadata": {},
   "source": [
    "El espacio de trabajo debe mostrarse similar a la siguiente imagen en VS-Code:"
   ]
  },
  {
   "cell_type": "markdown",
   "id": "07a27fc4-42bc-4636-b1b6-5d2465b93e5f",
   "metadata": {},
   "source": [
    "![espacio-trabajo](espacio_trabajo.png)"
   ]
  },
  {
   "cell_type": "markdown",
   "id": "0b23f5fd-6d86-410f-ac3c-56b57d104552",
   "metadata": {},
   "source": [
    "3. En el archivo `index.html`, escribimos el comando: `html:5`, para obtener la estructura del sitio web\n",
    "4. Como título a la página escribimos: `Eventos de keyboard`\n",
    "5. Dentro de las etiquetas `<body>` y `</body>`, agregamos un elemento `h1`, con el texto: `La caja mágica`\n",
    "6. Agregamos un `div`, dentro de la etiqueta de apertura agregamos lo siguiente: `id=\"caja_magica\"`\n",
    "7. Dentro del contenedor agregamos el texto: `Presiona las teclas: R, G o B`\n",
    "8. Finalmente agregamos el elemento `script` con la ruta completa al archivo"
   ]
  },
  {
   "cell_type": "markdown",
   "id": "6dc078f7-668e-48df-bb8f-c09bb8bc46eb",
   "metadata": {},
   "source": [
    "Esa parte del codigo HTML deberia verse de la siguiente forma:"
   ]
  },
  {
   "cell_type": "markdown",
   "id": "91d5c29b-8ea5-480f-9af8-ca6e1028901a",
   "metadata": {},
   "source": [
    "![code](code.png)"
   ]
  },
  {
   "cell_type": "markdown",
   "id": "b4af6dc2-6bae-4a42-974a-0a37e5e93b7a",
   "metadata": {},
   "source": [
    "9. Ahora en el archivo `styles.css` agregamos el selector definido anteriormente para el elemento `div`:"
   ]
  },
  {
   "cell_type": "markdown",
   "id": "5c24f45e-e1df-434e-a600-93419fcc4797",
   "metadata": {},
   "source": [
    "```\n",
    "#caja_magica {\n",
    "\n",
    "}\n",
    "```"
   ]
  },
  {
   "cell_type": "markdown",
   "id": "baae6a7e-625e-421b-9334-404be4b7fc4b",
   "metadata": {},
   "source": [
    "Dentro de las llaves agregamos las propiedades necesarias para configurar los siguientes elementos de estilos:"
   ]
  },
  {
   "cell_type": "markdown",
   "id": "e487bd5b-7a58-41c7-accc-1c5552863e23",
   "metadata": {},
   "source": [
    "> - ancho 350px, alto 150px (`width` y `height`)\n",
    "> - Un color de fondo\n",
    "> - texto centrado horizontal y verticalmente (`text-align` y `line-height`)\n",
    "> - tamaño de fuente: `20px` (`font-size`)\n",
    "> - color de fuente: `white` (`color`)\n",
    "> - Borde de 5px linea continua color negro (`border`)"
   ]
  },
  {
   "cell_type": "markdown",
   "id": "c77c939a-130a-43dc-9b30-4d650b7884ac",
   "metadata": {},
   "source": [
    "9. Pasamos al archivo `index.html` y Enlazamos los estilos dentro de las etiquetas `<head>` y `</head>` escribiendo el comando `link:css`, tenga en cuenta de agregar correctamente la ruta:"
   ]
  },
  {
   "cell_type": "markdown",
   "id": "7bb575ce-1934-43a6-abae-d39b95355bbd",
   "metadata": {},
   "source": [
    "![code1](code1.png)"
   ]
  },
  {
   "cell_type": "markdown",
   "id": "05102a44-a847-4449-b5b2-e172cdfdcd68",
   "metadata": {},
   "source": [
    "## Segunda Parte: Funcionamiento del Script"
   ]
  },
  {
   "cell_type": "markdown",
   "id": "ab78ca20-bfe1-46bd-a70a-3aefaffbad90",
   "metadata": {},
   "source": [
    "El script debe reaccionar al presionar las teclas R, G o B del teclado, de la siguiente manera:\n",
    "\n",
    "- Tecla `r`: cambia el color del fondo\n",
    "- Tecla `g`: cambia el color del texto\n",
    "- Tecla `b`: cambia el color del borde"
   ]
  },
  {
   "cell_type": "markdown",
   "id": "dd68dc30-6810-46b4-8a96-22abc944325e",
   "metadata": {},
   "source": [
    "En el archivo `script.js` programamos el código de JavaScript para cumplir con las tres condiciones, en esta ocasión debemos emplear las estructuras condicionales `if` - `else if` (si, sino), las cuales funcionan en bloques delimitados con llaves `{ }`"
   ]
  },
  {
   "cell_type": "markdown",
   "id": "fdf5bee7-8a26-4a73-bcc9-89bd03c238e3",
   "metadata": {},
   "source": [
    "> Las estructuras condicionales en programación evalúan una o más condiciones, si la condición se cumple (true) y resulta verdadera o por el contrario, es false (false) se tomarán diferentes acciones según el caso."
   ]
  },
  {
   "cell_type": "markdown",
   "id": "91ed81c4-19e2-481f-ae6f-e42a28a8ab93",
   "metadata": {},
   "source": [
    "1. Creamos una constante con un nombre válido, escribiendo:\n",
    "```const caja = document.getElementById(\"caja_magica\");```"
   ]
  },
  {
   "cell_type": "markdown",
   "id": "c97ee295-5df7-4c60-8e1d-aad116ef6a26",
   "metadata": {},
   "source": [
    "2. Empleamos el método `addEventListener` se indica un evento de teclado `keydown` (al presionar una tecla). Al mismo tiempo, definimos la función que leerá el evento, indicando las acciones a seguir según la tecla que se presione, escribimos debajo el siguiente código:"
   ]
  },
  {
   "cell_type": "markdown",
   "id": "8b0e37fb-582a-44ce-b45e-e93d145fabff",
   "metadata": {},
   "source": [
    "```\n",
    "document.addEventListener(\"keydown\", function(event) {\n",
    "    if (event.key == \"r\" || event.key == \"R\") {\n",
    "        caja.style.backgroundColor = \"violet\";\n",
    "    }\n",
    "    else if (event.key == \"g\" || event.key == \"G\"){\n",
    "        caja.style.color = \"red\";\n",
    "    }\n",
    "    else if (event.key == \"b\" || event.key == \"B\"){\n",
    "        caja.style.borderColor= \"blue\";\n",
    "    }\n",
    "    }\n",
    ")\n",
    "```"
   ]
  },
  {
   "cell_type": "markdown",
   "id": "75d37f78-dd00-4fb3-b376-7bda042f30e1",
   "metadata": {},
   "source": [
    "> El símbolo `||` conocido como _pipeline_ también _barra vertical_. Actúa empleando la conjunción `o`, es decir, al leerlo en nuestro lenguaje seria algo como: _si se presiona la tecla \"r\" (minúscula) __o__ la recla \"R\" (mayúscula) el estilo de color de fondo cambia al valor `violet`_.\n",
    ">\n",
    "> De la misma forma sucede con las letras \"g\" y \"b\""
   ]
  },
  {
   "cell_type": "markdown",
   "id": "ace62c91-3f78-4dba-b7b2-b207d61abe21",
   "metadata": {},
   "source": [
    "Al comprobar la ejecución de la página web, el contenedor `div` cambia las propiedades de estilo requeridas para el ejemplo."
   ]
  },
  {
   "cell_type": "markdown",
   "id": "70008bd7-369a-4e46-9b67-296aac9a4554",
   "metadata": {},
   "source": [
    "> El anterior ejemplo también puede resolverse empleando el operador ternario `?`, el cual se tratará más adelante."
   ]
  },
  {
   "cell_type": "markdown",
   "id": "abbbdbce-fc2a-4f06-acc0-9c5012985202",
   "metadata": {},
   "source": [
    "## Tercera parte: terminando con los estilos"
   ]
  },
  {
   "cell_type": "markdown",
   "id": "58e5e9f5-4901-4168-b176-bbffa9285cca",
   "metadata": {},
   "source": [
    "Finalmente emplee las propiedades necesarias para aplicar en el archivo css:"
   ]
  },
  {
   "cell_type": "markdown",
   "id": "6ba0699b-39d4-4f74-9ef6-3d5b3fa177ac",
   "metadata": {},
   "source": [
    "> - Aplicar un color de fondo para la página (`background-color`)\n",
    "> - Cambiar el tipo de letra del elemento `div`, (`color`)\n",
    "> - Aplicar un borde al elemento `div` (`border`)"
   ]
  },
  {
   "cell_type": "markdown",
   "id": "cda38dee-8ed1-42a8-af4b-33c3a98fbde1",
   "metadata": {},
   "source": [
    "## Cuarta parte: Conteste en su cuaderno:"
   ]
  },
  {
   "cell_type": "markdown",
   "id": "67854ad2-db9a-446d-934b-f8d4c511eedd",
   "metadata": {},
   "source": [
    "1. Según lo explicado en esta guía, indique por qué es necesario emplear el símbolo `||`\n",
    "2. Que sucedería si no se empleara el símbolo `||` en el programa planteado?"
   ]
  }
 ],
 "metadata": {
  "kernelspec": {
   "display_name": "Python 3 (ipykernel)",
   "language": "python",
   "name": "python3"
  },
  "language_info": {
   "codemirror_mode": {
    "name": "ipython",
    "version": 3
   },
   "file_extension": ".py",
   "mimetype": "text/x-python",
   "name": "python",
   "nbconvert_exporter": "python",
   "pygments_lexer": "ipython3",
   "version": "3.12.1"
  }
 },
 "nbformat": 4,
 "nbformat_minor": 5
}
