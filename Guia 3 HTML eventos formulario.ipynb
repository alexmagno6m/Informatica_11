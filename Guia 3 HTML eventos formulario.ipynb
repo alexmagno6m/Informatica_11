{
 "cells": [
  {
   "cell_type": "markdown",
   "id": "c369c6e2-8247-41f8-84ba-634d4581e118",
   "metadata": {},
   "source": [
    "# Guia 3 HTML - Eventos de Formulario"
   ]
  },
  {
   "cell_type": "markdown",
   "id": "b5cb2aa3-823c-4a03-a738-808bd71525ae",
   "metadata": {},
   "source": [
    "- __Profesor: Alexander Acecedo Gómez__\n",
    "- __Ingeniero de sistemas__\n",
    "- __Magister en Modelado y Simulación__\n",
    "- @Alex6m"
   ]
  },
  {
   "cell_type": "markdown",
   "id": "59dd7e89-b09a-436b-b940-1b07e00acc27",
   "metadata": {},
   "source": [
    "### Obtención del sello"
   ]
  },
  {
   "cell_type": "markdown",
   "id": "8b04707a-6a97-41d2-9522-6c48e765e9a4",
   "metadata": {
    "slideshow": {
     "slide_type": "subslide"
    },
    "tags": []
   },
   "source": [
    "- Competencia: 3\n",
    "- Ámbito conceptual: Interacciones sencillas con JavaScript en HTML\n",
    "- Objetivo: Programar correctamente un script de JS que realice una validacion de datos sobre un formulario empleando los eventos necesarios con acierto y creatividad."
   ]
  },
  {
   "cell_type": "markdown",
   "id": "c99a7634-0cf7-48a1-86b1-b3411ddcde06",
   "metadata": {},
   "source": [
    "# El Proyecto: Formulario con campo de validación"
   ]
  },
  {
   "cell_type": "markdown",
   "id": "b93c75e7-84b5-430a-a25d-3ac40d2cf3f4",
   "metadata": {
    "tags": [
     "proyecto"
    ]
   },
   "source": [
    "El objetivo del proyecto es crear una tarjeta de formulario que simule el login de una plataforma. JavaScript se empleará para validar la entrada del campo email, empleando el evento `input`, para verificar si la dirección de correo contiene los simbolos de  arroba `@` y punto `.` "
   ]
  },
  {
   "cell_type": "markdown",
   "id": "3b1b4383-51fc-4314-9e96-dfe1f4e2f38d",
   "metadata": {},
   "source": [
    "![formulario2](formulario2.png)"
   ]
  },
  {
   "cell_type": "markdown",
   "id": "10e701a5-5b5b-488c-ac21-71310e15dabc",
   "metadata": {},
   "source": [
    "___"
   ]
  },
  {
   "cell_type": "markdown",
   "id": "4710652f-7545-4496-ad80-617c914589f9",
   "metadata": {},
   "source": [
    "## Primera parte - Creación del espacio de trabajo (todos los cursos)"
   ]
  },
  {
   "cell_type": "markdown",
   "id": "04dbc05f-de3d-4531-9ed3-da3400df8022",
   "metadata": {},
   "source": [
    "1. En su carpeta personal creamos un nuevo directorio llamado `eventos-formulario`:"
   ]
  },
  {
   "cell_type": "markdown",
   "id": "00cdf237-7abd-400c-abb2-ea0396aa73c3",
   "metadata": {},
   "source": [
    "```\n",
    "└── Informatica 11/\n",
    "    └── Su curso/\n",
    "        └── Su nombre/\n",
    "            └── Proyectos HTML/\n",
    "                └── eventos-formulario/\n",
    "```"
   ]
  },
  {
   "cell_type": "markdown",
   "id": "c7f466ef-f6f4-41d1-87f0-c43056367e88",
   "metadata": {},
   "source": [
    "2. Ahora en `VS-Code` abrimos esta carpeta y creamos los archivos acostumbrados:"
   ]
  },
  {
   "cell_type": "markdown",
   "id": "4f0e9f92-3803-4116-86b7-ae1be079979e",
   "metadata": {},
   "source": [
    "```\n",
    "└── eventos-formulario/\n",
    "    ├── css/\n",
    "    │   └── styles.css\n",
    "    ├── js/\n",
    "    │   └── script.js\n",
    "    └── index.html\n",
    "```"
   ]
  },
  {
   "cell_type": "markdown",
   "id": "f942c66d-47ec-4f7d-9b6a-a3e3bbde1e8d",
   "metadata": {},
   "source": [
    "El espacio de trabajo en `VS-Code` debe verse asi:"
   ]
  },
  {
   "cell_type": "markdown",
   "id": "ec2ff705-7c66-42d1-aa78-e039d8d39b7b",
   "metadata": {},
   "source": [
    "![formulario](formulario.png)"
   ]
  },
  {
   "cell_type": "markdown",
   "id": "3f4e5c62-457f-4b6a-95bd-5e50d32ccbd4",
   "metadata": {},
   "source": [
    "___"
   ]
  },
  {
   "cell_type": "markdown",
   "id": "67897033-a2c1-4992-85af-a6ed653ddc26",
   "metadata": {},
   "source": [
    "## Segunda Parte - Programando el archivo HTML (1101)"
   ]
  },
  {
   "cell_type": "markdown",
   "id": "6a874585-6a81-4d98-9c31-715f4f4a5819",
   "metadata": {},
   "source": [
    "1. Obtenemos la estructura general escribiendo en el archivo `index.html` el comando: `html:5`\n",
    "2. Como título de la página escribimoos `Eventos de formulario`\n",
    "3. Creamos el contenedor padre el cual envuelve todos los demas componentes del formulario, como selector creamos la clase:`contenedor`, cuidando de dejar un espacio libre entre las etiquetas de apertura y cierre:"
   ]
  },
  {
   "cell_type": "markdown",
   "id": "2f863120-0dc2-4303-b51f-988f59501fae",
   "metadata": {},
   "source": [
    "```html\n",
    "<div class=\"contenedor\">\n",
    "\n",
    "</div>\n",
    "```"
   ]
  },
  {
   "cell_type": "markdown",
   "id": "47e9c9fa-d67f-434e-aca9-f025a10a2c55",
   "metadata": {},
   "source": [
    "4. En la linea en blanco del codigo anterior, agregamos un nuevo elemento `div` con la clase `card` dejando nuevamente una linea en blanco entre las dos etiquetas:"
   ]
  },
  {
   "cell_type": "markdown",
   "id": "0d70fb1b-ca95-4462-96ea-ba3d47c47e76",
   "metadata": {},
   "source": [
    "```html\n",
    "<div class=\"card\">\n",
    "\n",
    "</div>\n",
    "```"
   ]
  },
  {
   "cell_type": "markdown",
   "id": "e7413b75-fe7b-4e0c-befd-a57688aa9a27",
   "metadata": {},
   "source": [
    "Dentro de la misma etiqueta de apertura, despues del selector de clase vamos a incluir algunos atributos nuevos: "
   ]
  },
  {
   "cell_type": "markdown",
   "id": "6c568019-dcfe-40ea-a9e3-edbeea10f29d",
   "metadata": {},
   "source": [
    "`role=\"region\" aria-labelledby=\"title\"`"
   ]
  },
  {
   "cell_type": "markdown",
   "id": "dd8868f3-861e-4ed6-ab87-2ea09588ea22",
   "metadata": {},
   "source": [
    "El código en esa linea deberia verse así:"
   ]
  },
  {
   "cell_type": "markdown",
   "id": "477c835c-abc1-44fc-8e22-84f822865314",
   "metadata": {},
   "source": [
    "![code2](code2.png)"
   ]
  },
  {
   "cell_type": "markdown",
   "id": "42b90dbd-a158-49d8-83a6-2445665b96d3",
   "metadata": {},
   "source": [
    "### Explicación"
   ]
  },
  {
   "cell_type": "markdown",
   "id": "db106939-53cb-489f-a01e-b7da395315f1",
   "metadata": {},
   "source": [
    "> - `role:\"region\"` - Es un atributo ARIA (Accessible Rich Internet Applications) que indica que este div es una región significativa de la página. Esto mejora la accesibilidad del sitio web.\n",
    "> - `aria-labelledby=\"title\"` - Este atributo ARIA conecta este contenedor con el elemento que tiene el ID `\"title\"` (que en este caso es el `<h1>` con el texto \"Iniciar sesión\" que se mostrará a continuación). Esto ayuda a los lectores de pantalla a identificar el propósito de esta sección."
   ]
  },
  {
   "cell_type": "markdown",
   "id": "52445bf5-ffaa-4ddc-9542-9a7df8dc4fc5",
   "metadata": {},
   "source": [
    "5. Continuamos en la linea en blanco que dejamos disponible en el punto 4, ahora escribimos un `h1` con el identificador `title` y con el texto: `iniciar sesion`"
   ]
  },
  {
   "cell_type": "markdown",
   "id": "b37f8c04-fcf3-45cd-8a6f-bfbc22f9af5b",
   "metadata": {},
   "source": [
    "![code3](code3.png)"
   ]
  },
  {
   "cell_type": "markdown",
   "id": "8a154851-b092-4ddd-9e06-951f1055236e",
   "metadata": {},
   "source": [
    "6. Al final de la linea del paso anterior presionamos enter para agregar otra línea en blanco y procedemos a crear los campos del formulario escribiento el elemento `form`:"
   ]
  },
  {
   "cell_type": "markdown",
   "id": "09e2cc07-61ec-42f3-970c-8fb9fab80a3e",
   "metadata": {},
   "source": [
    "`<form action=\"#\" method=\"post\" novalidate>`"
   ]
  },
  {
   "cell_type": "markdown",
   "id": "b5f8deb1-ec52-4105-a113-ba026ad10395",
   "metadata": {},
   "source": [
    "### Explicación"
   ]
  },
  {
   "cell_type": "markdown",
   "id": "cb977834-2d6c-4e0c-a4ae-df562e64e36f",
   "metadata": {},
   "source": [
    "> - `action=\"#\"`: define la URL donde se enviarán los datos al hacer submit. Cuando se esta en fase de desarrollo se suele emplear `#`. En producción se debe usar una url real.\n",
    "> - `method=\"post\"`: especifica el método HTTP para el envío. Post conduce los datos en el cuerpo de la petición (útil para credenciales, formularios que modifican estado).\n",
    "> - `novalidate`: atributo booleano que desactiva la validación nativa del navegador cuando se envía el formulario. Evitando que sea bloqueado automáticamente; se suele usar cuando la validación del formulario es administrada con JavaScript personalizado (más control sobre mensajes, estilos, accesibilidad), como en este caso."
   ]
  },
  {
   "cell_type": "markdown",
   "id": "e93446ca-7a53-44c9-aebd-a41866c674df",
   "metadata": {},
   "source": [
    "7. Entre las etiquetas `<form>` y `</form>` del paso anterior, procedemos a crear tres contenedores `div` uno debajo del otro, dejando una linea disponible entre las etiquetas de apertura y cierre:"
   ]
  },
  {
   "cell_type": "markdown",
   "id": "e367fed0-927b-44dc-9858-78917f310fe7",
   "metadata": {},
   "source": [
    "![code5](code5.png)"
   ]
  },
  {
   "cell_type": "markdown",
   "id": "ed0f5b56-fe45-41fa-a530-21a9cfd584a8",
   "metadata": {},
   "source": [
    "7. En el primer `div` procedemos a crear la primera fila del formulario compuesta por dos elementos: la etiqueta (`label`) correo electrónico y el campo (`input`) para ingresar la información, modifiquelo copiando la siguiente información:"
   ]
  },
  {
   "cell_type": "markdown",
   "id": "3e11d372-90d1-45dd-b6af-b27e2c368d34",
   "metadata": {},
   "source": [
    "```html\n",
    "<div class=\"row\">\n",
    "    <label for=\"email\">Correo electrónico</label>\n",
    "    <input id=\"email\" name=\"email\" type=\"email\" placeholder=\"ejemplo@dominio.com\" required aria-required=\"true\" />\n",
    "    <p id=\"mensaje\"></p>\n",
    "    <script src=\"js/script.js\"></script>\n",
    "</div>\n",
    "```"
   ]
  },
  {
   "cell_type": "markdown",
   "id": "87ad4ba0-ce1d-442d-9fee-0e5b491991b6",
   "metadata": {},
   "source": [
    "> Adicionalmente aparece en el código el elemento `<p>` donde debe mostrarse el mensaje de validación, servirá para indicar si se digitó una direccion de correo electrónico correcta o mostrar una advetencia si es lo contrario. También se incluye el elemento `<script>` que enlaza al archivo de `JS` donde posteriormente programamos el evento de validación."
   ]
  },
  {
   "cell_type": "markdown",
   "id": "458cf3d8-2ad6-4635-8c32-731fb8fc94fa",
   "metadata": {},
   "source": [
    "8. Continuamos con el siguiente `div` para crear la segunda linea del formulario: el label `contraseña` y su correspondiente campo. modifíquelo como se muestra en la imagen:"
   ]
  },
  {
   "cell_type": "markdown",
   "id": "8637110a-36d7-4bca-b7c0-5d63dcf8e9d5",
   "metadata": {},
   "source": [
    "![code6](code6.png)"
   ]
  },
  {
   "cell_type": "markdown",
   "id": "cf36ade6-e9e1-4124-8d66-98a5dbb4ece4",
   "metadata": {},
   "source": [
    "### Explicación"
   ]
  },
  {
   "cell_type": "markdown",
   "id": "e66af273-9970-4b40-9574-c93de318008b",
   "metadata": {},
   "source": [
    "> - La clase `row` de ambas filas va a permitir aplicar estilos similares mas adelante en el `CSS`.\n",
    "> - El argumento `type=\"password\"` advierte que ese campo es para contraseñas y oculta los caracteres.\n",
    "> - El argumento `placeholder` muestra la leyenda atenuada para informar al usuario el tipo de campo."
   ]
  },
  {
   "cell_type": "markdown",
   "id": "a1c60647-f558-415c-9b42-de265f7b2642",
   "metadata": {},
   "source": [
    "9. Por último finalizamos con la linea 3, en el último `div`,  la cual incluye los botones de `ingresar` y `registrarse`, modifique el contenedor como se muestra en la imagen:"
   ]
  },
  {
   "cell_type": "markdown",
   "id": "bb78d0a7-428b-4fcd-ba59-77684d29730b",
   "metadata": {},
   "source": [
    "![code7](code7.png)"
   ]
  },
  {
   "cell_type": "markdown",
   "id": "1ab294c6-fc5d-40ea-832b-2b04ba65d355",
   "metadata": {},
   "source": [
    "10. Como recomendación presionamos las teclas __`alt` + `shift` + `f`__ para arreglar las indentaciones o tabulaciones del código"
   ]
  },
  {
   "cell_type": "markdown",
   "id": "a511a9bd-d2f2-49e5-8551-01e3bfa9183b",
   "metadata": {},
   "source": [
    "El código resultante deberia verse así:"
   ]
  },
  {
   "cell_type": "markdown",
   "id": "68cc010b-d97a-4b53-bcd3-bc25f8a1c060",
   "metadata": {},
   "source": [
    "![code4](code4.png)"
   ]
  },
  {
   "cell_type": "markdown",
   "id": "8028a2fa-6514-4238-b2a5-9afcfaa52e28",
   "metadata": {},
   "source": [
    "___"
   ]
  },
  {
   "cell_type": "markdown",
   "id": "01d6a3f7-a294-410f-9ffb-466b95cffedf",
   "metadata": {},
   "source": [
    "## Segunda Parte - Programando el archivo HTML (1102)"
   ]
  },
  {
   "cell_type": "markdown",
   "id": "64056d9f-e526-4347-b1d0-f0fd181bde1a",
   "metadata": {},
   "source": [
    "1. Obtenemos la estructura general escribiendo en el archivo `index.html` el comando: `html:5` o también digitando el símbolo `!` y presionando enter.\n",
    "2. Como título de la página escribimos `Aplicacion de JavaScript para eventos de formulario`\n",
    "3. Creamos el contenedor padre el cual envuelve todos los demas componentes del formulario, como selector creamos la clase:`principal`, cuidando de dejar un espacio libre entre las etiquetas de apertura y cierre:"
   ]
  },
  {
   "cell_type": "markdown",
   "id": "5ff8647d-2146-4fdd-9d97-263a2c842236",
   "metadata": {},
   "source": [
    "```html\n",
    "<div class=\"principal\">\n",
    "\n",
    "</div>\n",
    "```"
   ]
  },
  {
   "cell_type": "markdown",
   "id": "9e70e069-8102-4ea3-9163-a496c04ca80f",
   "metadata": {},
   "source": [
    "4. En la linea que quedó libre entre las etiquetas `div` del codigo anterior, agregamos un nuevo elemento `div` con la clase `tarjeta` dejando nuevamente una linea en blanco entre las dos etiquetas:"
   ]
  },
  {
   "cell_type": "markdown",
   "id": "89e77c3f-6b04-41f7-87ee-2a5359ae7cc0",
   "metadata": {},
   "source": [
    "```html\n",
    "<div class=\"tarjeta\">\n",
    "\n",
    "</div>\n",
    "```"
   ]
  },
  {
   "cell_type": "markdown",
   "id": "f006cfce-c43d-44e7-b925-8a93dc972d95",
   "metadata": {},
   "source": [
    "Dentro de la misma etiqueta de apertura, despues del selector de clase vamos a incluir algunos atributos nuevos: "
   ]
  },
  {
   "cell_type": "markdown",
   "id": "01a86eed-2f4b-4ae0-a816-ba91108109d7",
   "metadata": {},
   "source": [
    "`role=\"region\" aria-labelledby=\"title\"`"
   ]
  },
  {
   "cell_type": "markdown",
   "id": "9df14c84-6353-436d-a5c9-5c7ef663b3a0",
   "metadata": {},
   "source": [
    "El código en esa linea deberia verse así:"
   ]
  },
  {
   "cell_type": "markdown",
   "id": "ff9e30cc-18df-4757-b5ce-97f5f1a6e0cb",
   "metadata": {},
   "source": [
    "![code12](code12.png)"
   ]
  },
  {
   "cell_type": "markdown",
   "id": "2b158210-a8d4-4927-bfb4-729b8c5a1411",
   "metadata": {},
   "source": [
    "### Explicación"
   ]
  },
  {
   "cell_type": "markdown",
   "id": "5ed58710-1444-44a1-a5e2-d3ea3106490c",
   "metadata": {},
   "source": [
    "> - `role:\"region\"` - Es un atributo ARIA (Accessible Rich Internet Applications) que indica que este div es una región significativa de la página. Esto mejora la accesibilidad del sitio web.\n",
    "> - `aria-labelledby=\"title\"` - Este atributo ARIA conecta este contenedor con el elemento que tiene el ID `\"title\"` (que en este caso es el `<h1>` con el texto \"Iniciar sesión\" que se mostrará a continuación). Esto ayuda a los lectores de pantalla a identificar el propósito de esta sección."
   ]
  },
  {
   "cell_type": "markdown",
   "id": "45fbe48e-3523-422d-b3ee-7bba0e29890e",
   "metadata": {},
   "source": [
    "5. Continuamos en la linea libre que dejamos disponible en el punto 4, ahora escribimos un `h1` con el identificador `titulo` y con el texto: `iniciar sesion`"
   ]
  },
  {
   "cell_type": "markdown",
   "id": "7370d1b3-7d8c-497f-b46f-44c1b731ce43",
   "metadata": {},
   "source": [
    "![code13](code13.png)"
   ]
  },
  {
   "cell_type": "markdown",
   "id": "2b2e7ca9-60de-4edd-ac8b-1f697f75cdb9",
   "metadata": {},
   "source": [
    "6. Al final de la linea del paso anterior presionamos enter para agregar otra línea en blanco libre y procedemos a crear los campos del formulario escribiento el elemento `form`:"
   ]
  },
  {
   "cell_type": "markdown",
   "id": "24d87b21-0284-4dbf-b242-72650103f8d2",
   "metadata": {},
   "source": [
    "```html\n",
    "<form action=\"#\" method=\"post\" novalidate>\n",
    "    \n",
    "</form>\n",
    "```"
   ]
  },
  {
   "cell_type": "markdown",
   "id": "50d8bee2-00d1-4bbd-952e-b31c8ee087eb",
   "metadata": {},
   "source": [
    "### Explicación"
   ]
  },
  {
   "cell_type": "markdown",
   "id": "9caa57d3-5f5e-47c8-9dea-bc47e5c1a9d3",
   "metadata": {},
   "source": [
    "> - `action=\"#\"`: define la URL donde se enviarán los datos al hacer submit. Cuando se esta en fase de desarrollo se suele emplear `#`. En producción se debe usar una url real.\n",
    "> - `method=\"post\"`: especifica el método HTTP para el envío. Post conduce los datos en el cuerpo de la petición (útil para credenciales, formularios que modifican estado).\n",
    "> - `novalidate`: atributo booleano que desactiva la validación nativa del navegador cuando se envía el formulario. Evitando que sea bloqueado automáticamente; se suele usar cuando la validación del formulario es administrada con JavaScript personalizado (más control sobre mensajes, estilos, accesibilidad), como en este caso."
   ]
  },
  {
   "cell_type": "markdown",
   "id": "ca79c119-2ed0-462d-a93c-b94abeabdd23",
   "metadata": {},
   "source": [
    "7. Entre las etiquetas `<form>` y `</form>` del paso anterior, procedemos a crear tres contenedores `div` uno debajo del otro, dejando una linea disponible entre las etiquetas de apertura y cierre:"
   ]
  },
  {
   "cell_type": "markdown",
   "id": "09b21027-8804-4b5c-8ed9-b54abe75f49f",
   "metadata": {},
   "source": [
    "![code5](code5.png)"
   ]
  },
  {
   "cell_type": "markdown",
   "id": "ae4ab614-652d-4a9d-9c29-025b63152591",
   "metadata": {},
   "source": [
    "7. En el primer `div` procedemos a crear la primera fila del formulario compuesta por dos elementos: la etiqueta (`label`) correo electrónico y el campo (`input`) para ingresar la información, modifiquelo copiando la siguiente información:"
   ]
  },
  {
   "cell_type": "markdown",
   "id": "83857e2c-693f-4b43-8525-cb5fae701011",
   "metadata": {},
   "source": [
    "```html\n",
    "<div class=\"fila\">\n",
    "    <label for=\"email\">Correo electrónico</label>\n",
    "    <input id=\"email\" name=\"email\" type=\"email\" placeholder=\"micorreo@dominio.com\" required aria-required=\"true\" />\n",
    "    <p id=\"advisor\"></p>\n",
    "    <script src=\"js/script.js\"></script>\n",
    "</div>\n",
    "```"
   ]
  },
  {
   "cell_type": "markdown",
   "id": "e65b109e-655b-44f3-bf24-78623970a029",
   "metadata": {},
   "source": [
    "### Explicación"
   ]
  },
  {
   "cell_type": "markdown",
   "id": "606d9b55-e779-45ad-97a2-7a1cc089aceb",
   "metadata": {},
   "source": [
    "> Adicionalmente aparece en el código el elemento `<p>` donde debe mostrarse el mensaje de validación, servirá para indicar si se digitó una direccion de correo electrónico correcta o mostrar una advetencia si es lo contrario. También se incluye el elemento `<script>` que enlaza al archivo de `JS` donde posteriormente programamos el evento de validación. EL atributo `required` indica que ese campo es obligatorio."
   ]
  },
  {
   "cell_type": "markdown",
   "id": "2acbb19f-5e66-4241-ba22-560c66e07163",
   "metadata": {},
   "source": [
    "8. Continuamos con el siguiente `div` para crear la segunda linea del formulario: el label `contraseña` y su correspondiente campo. modifíquelo como se muestra en la imagen:"
   ]
  },
  {
   "cell_type": "markdown",
   "id": "f75f1232-2e14-4f11-8f8f-9ca02403cb92",
   "metadata": {},
   "source": [
    "![code9](code9.png)"
   ]
  },
  {
   "cell_type": "markdown",
   "id": "422a2b5d-843a-4d8f-a18e-f852d3b2931e",
   "metadata": {},
   "source": [
    "### Explicación"
   ]
  },
  {
   "cell_type": "markdown",
   "id": "677f275d-8633-4cd8-8c77-3cf645376011",
   "metadata": {},
   "source": [
    "> - La clase `fila` de ambos contenedores va a permitir aplicar estilos similares mas adelante en el `CSS`.\n",
    "> - El argumento `type=\"password\"` advierte que ese campo es para contraseñas y oculta los caracteres.\n",
    "> - El argumento `placeholder` muestra la leyenda atenuada para informar al usuario el tipo de campo."
   ]
  },
  {
   "cell_type": "markdown",
   "id": "7c125b93-af67-410d-8fcc-a07827d592b4",
   "metadata": {},
   "source": [
    "9. Por último finalizamos con la fila 3, en el último `div`,  la cual incluye los botones de `ingresar` y `registrarse`, modifique el contenedor como se muestra en la imagen:"
   ]
  },
  {
   "cell_type": "markdown",
   "id": "866be930-6ccc-497f-8216-961d59f560c9",
   "metadata": {},
   "source": [
    "![code10](code10.png)"
   ]
  },
  {
   "cell_type": "markdown",
   "id": "e63e05bb-f486-454f-8e3f-a07155f0e7b0",
   "metadata": {},
   "source": [
    "10. Como recomendación presionamos las teclas __`alt` + `shift` + `f`__ para arreglar las indentaciones o tabulaciones del código"
   ]
  },
  {
   "cell_type": "markdown",
   "id": "dd73e29a-1a1d-401f-a86b-d7fa17177e7f",
   "metadata": {},
   "source": [
    "El código resultante deberia verse así:"
   ]
  },
  {
   "cell_type": "markdown",
   "id": "7cc7846e-8dc3-48ca-ad8d-c41fa2531faf",
   "metadata": {},
   "source": [
    "![code11](code11.png)"
   ]
  },
  {
   "cell_type": "markdown",
   "id": "2ac8ca03-5ef4-431f-ba86-eb85b776f1ed",
   "metadata": {},
   "source": [
    "___"
   ]
  },
  {
   "cell_type": "markdown",
   "id": "fe10906e-9be7-48ec-9b16-fe028e12f97c",
   "metadata": {},
   "source": [
    "### Consteste en su cuaderno"
   ]
  },
  {
   "cell_type": "markdown",
   "id": "7ab20731-ad32-4c91-8b08-3fbc2e35f325",
   "metadata": {},
   "source": [
    "### 1101"
   ]
  },
  {
   "cell_type": "markdown",
   "id": "d5a3eeb5-87a2-44e2-bc72-bac5df49f5b5",
   "metadata": {},
   "source": [
    "1. Conteste en sus palabras porque en la version final o de producción de un sitio web se debe emplear una `url` real en el argumento `action=\"#\"`?\n",
    "2. Que función cumple el argumento `type=\"password\"` en el campo de un formulario?\n",
    "3. Como se afectaría la experiencia de los visitantes de un sitio web si en un formulario omitimos el argumento `placeholder`?"
   ]
  },
  {
   "cell_type": "markdown",
   "id": "61c2fa17-568f-4784-9f77-fd0d3b193a9c",
   "metadata": {},
   "source": [
    "### 1102"
   ]
  },
  {
   "cell_type": "markdown",
   "id": "77d977a3-30ca-448e-8e5a-9ad13e77270e",
   "metadata": {},
   "source": [
    "1. Por que en este caso es conveniente emplear el metodo `post`?\n",
    "2. Que pasaria si el atributo `required` es omitido?\n",
    "3. En sus palabras que función cumplirá más adelante el elemento `<p>` dentro del primer contenedor del formulario?"
   ]
  },
  {
   "cell_type": "markdown",
   "id": "769f42df-e991-43af-8cf2-ef240b482a79",
   "metadata": {},
   "source": [
    "### 1103"
   ]
  },
  {
   "cell_type": "markdown",
   "id": "828d70fc-e57c-4556-8208-6116c4241a0e",
   "metadata": {},
   "source": [
    "1. En sus palabras según lo explicado en la guía, indique qué sucede si se omite el atributo `role:\"region\"`?\n",
    "2. Por qué es importante incluir el atributo `aria-labelledby=\"title\"`?\n",
    "3. Qué ventaja representa el incluir el argumento `novalidate` dentro del elemento `form`?"
   ]
  },
  {
   "cell_type": "markdown",
   "id": "e9dfa4b2-f91a-44da-8577-14c1ff2af0ed",
   "metadata": {},
   "source": [
    "---"
   ]
  },
  {
   "cell_type": "markdown",
   "id": "6243eb21-fb67-4b88-a34d-7fb4820c8535",
   "metadata": {},
   "source": [
    "## Tercera Parte - Programando el CSS"
   ]
  },
  {
   "cell_type": "markdown",
   "id": "0a101350-39d9-4800-ae40-9bbdd3c1adcf",
   "metadata": {},
   "source": [
    "### 1103"
   ]
  },
  {
   "cell_type": "markdown",
   "id": "8a0ea696-b759-4d7a-8840-e9b4e70799f1",
   "metadata": {},
   "source": [
    "Ahora dirijase al archivo `styles.css` y realice los siguientes pasos:"
   ]
  },
  {
   "cell_type": "markdown",
   "id": "19897be9-2564-4df0-bc92-008f2ec00569",
   "metadata": {},
   "source": [
    "1. Creación de variables CSS con los colores de estilos para el formulario copie el siguiente codigo iniciando en la linea 1:"
   ]
  },
  {
   "cell_type": "markdown",
   "id": "4f4f01b1-a4df-485e-80a0-3d0437b494a9",
   "metadata": {},
   "source": [
    "```css\n",
    ":root {\n",
    "    --bg: #f4f7fb;\n",
    "    --card: #ffffff;\n",
    "    --accent: #2b6cb0;\n",
    "    --muted: #6b7280;\n",
    "    --radius: 10px;\n",
    "    --pad: 1rem;\n",
    "}\n",
    "```"
   ]
  },
  {
   "cell_type": "markdown",
   "id": "08eeb2f1-b4c4-4895-aa08-4abfd76eb7a0",
   "metadata": {},
   "source": [
    "### Explicación"
   ]
  },
  {
   "cell_type": "markdown",
   "id": "1b67fc28-db50-4c2f-b6e6-74ab058b9c66",
   "metadata": {},
   "source": [
    "> El pseudo selector `:root` indica que se agrupan los estilos principales para todo el documento, en este caso solo se incluyen las variables de colores. Por ejemplo: `--bg:...` es una variable que se identifica como `bg` y almacena el codigo de color para el fondo de la pagina. El nombre asignado es arbitrario, es decir puede emplearse cualquier otro siempre que se cumplan las condiciones de identificador de variables."
   ]
  },
  {
   "cell_type": "markdown",
   "id": "c6d8bd73-9b3d-4348-a720-ba5cb4f0fc41",
   "metadata": {},
   "source": [
    "2. Debajo del codigo anterior, copie los estilos generales para el cuerpoo del documento:"
   ]
  },
  {
   "cell_type": "markdown",
   "id": "ccf6f6e4-6803-4c57-bdcd-be5432cf3b29",
   "metadata": {},
   "source": [
    "```css\n",
    "html,\n",
    "body {\n",
    "    height: 100%;\n",
    "    margin: 0;\n",
    "    font-family: Inter, system-ui, -apple-system, \"Segoe UI\", Roboto, \"Helvetica Neue\", Arial;\n",
    "    background: linear-gradient(180deg, var(--bg), #eef3fb);\n",
    "    color: #111827;\n",
    "}\n",
    "```"
   ]
  },
  {
   "cell_type": "markdown",
   "id": "155d103b-11c7-451e-994a-9aa80944f961",
   "metadata": {},
   "source": [
    "### Explicacion"
   ]
  },
  {
   "cell_type": "markdown",
   "id": "fb0aadf5-df63-46bd-83fc-ed9450c8511b",
   "metadata": {},
   "source": [
    "> Se emplea la propiedad background con el valor `linear-gradient` para la creacion de un degradado lineal cuyo inicio es el color de pagina almancenado en la variable `bg` y finaliza en el codigo de color `#eef3fb`."
   ]
  },
  {
   "cell_type": "markdown",
   "id": "9311a67b-07c1-4b9e-8529-9dd3d84968a9",
   "metadata": {},
   "source": [
    "3. Centrado del contenedor principal en la view port de la pagina:"
   ]
  },
  {
   "cell_type": "markdown",
   "id": "689fa393-025e-4753-aff5-5ed6661a67cc",
   "metadata": {},
   "source": [
    "```css\n",
    ".contenedor {\n",
    "    min-height: 100vh;\n",
    "    display: flex;\n",
    "    align-items: center;\n",
    "    justify-content: center;\n",
    "    padding: 2rem;\n",
    "}\n",
    "```"
   ]
  },
  {
   "cell_type": "markdown",
   "id": "a921615a-99b6-4176-93b1-1c1e4bb190c1",
   "metadata": {},
   "source": [
    "### Explicacion"
   ]
  },
  {
   "cell_type": "markdown",
   "id": "44e91e88-40ac-42e1-9466-601fb34852f6",
   "metadata": {},
   "source": [
    "> Se establece un ancho minimo de 100vh (altura del displayport), la propiedad empleando la tecnica de `display flex` alineando horizontal y verticalmente al centro."
   ]
  },
  {
   "cell_type": "markdown",
   "id": "bd55baa0-4bf4-48ff-882f-6fc71cc0dc76",
   "metadata": {},
   "source": [
    "4. Propiedades de la clase card y del mensaje de validacion:"
   ]
  },
  {
   "cell_type": "markdown",
   "id": "2b450f38-e28e-4907-bf46-10492a247280",
   "metadata": {},
   "source": [
    "```css\n",
    ".card {\n",
    "    width: 100%;\n",
    "    max-width: 420px;\n",
    "    background: var(--card);\n",
    "    border-radius: var(--radius);\n",
    "    box-shadow: 0 6px 20px rgba(15, 23, 42, 0.08);\n",
    "    padding: 1.5rem;\n",
    "}\n",
    "\n",
    "p {\n",
    "    margin: 0 0 1.5rem;\n",
    "    font-size: .875rem;\n",
    "    color: var(--muted);\n",
    "    text-align: center;\n",
    "}\n",
    "```"
   ]
  },
  {
   "cell_type": "markdown",
   "id": "0872a545-a454-422e-85e0-412d610703f0",
   "metadata": {},
   "source": [
    "5. Propiedades del titulo del formulario y el contenedor propio:"
   ]
  },
  {
   "cell_type": "markdown",
   "id": "cac4a6a1-8d83-42a0-829a-3d662483603f",
   "metadata": {},
   "source": [
    "```css\n",
    "h1 {\n",
    "    margin: 0 0 1rem;\n",
    "    font-size: 1.125rem;\n",
    "    color: var(--accent);\n",
    "    text-align: center;\n",
    "}\n",
    "\n",
    "form {\n",
    "    display: grid;\n",
    "    gap: 1rem;\n",
    "}\n",
    "```"
   ]
  },
  {
   "cell_type": "markdown",
   "id": "14ded8e0-c7e5-47a6-90b1-c0888a262c12",
   "metadata": {},
   "source": [
    "6. Propiedades de las filas del formulario y las etiquetas `correo electronico` y `contraseña`:"
   ]
  },
  {
   "cell_type": "markdown",
   "id": "31796822-12c8-47e8-a11e-5f059fd353c0",
   "metadata": {},
   "source": [
    "```css\n",
    ".row {\n",
    "    display: flex;\n",
    "    flex-direction: column;\n",
    "    gap: .5rem;\n",
    "}\n",
    "\n",
    "label {\n",
    "    font-size: .875rem;\n",
    "    color: var(--muted);\n",
    "}\n",
    "```"
   ]
  },
  {
   "cell_type": "markdown",
   "id": "56874a4f-a959-406b-9b5d-1a72131b3ab6",
   "metadata": {},
   "source": [
    "7. Propiedades de las entradas del formulario:"
   ]
  },
  {
   "cell_type": "markdown",
   "id": "2e2eb059-d198-44e6-bc68-959defd7d8d3",
   "metadata": {},
   "source": [
    "```css\n",
    "input[type=\"email\"],\n",
    "input[type=\"password\"] {\n",
    "    padding: .75rem;\n",
    "    border: 1px solid #e6e9ef;\n",
    "    border-radius: 8px;\n",
    "    font-size: 1rem;\n",
    "    outline: none;\n",
    "    transition: box-shadow .15s, border-color .15s;\n",
    "}\n",
    "\n",
    "input:focus {\n",
    "    border-color: var(--accent);\n",
    "    box-shadow: 0 0 0 4px rgba(43, 108, 176, 0.08);\n",
    "}\n",
    "\n",
    "input::placeholder {\n",
    "    color: #b0bcd2;\n",
    "}\n",
    "```"
   ]
  },
  {
   "cell_type": "markdown",
   "id": "b8a57d8f-7cfc-44f7-a75b-14a9a458bb3d",
   "metadata": {},
   "source": [
    "### Explicacion"
   ]
  },
  {
   "cell_type": "markdown",
   "id": "df9e56d5-60ad-4713-8751-dcb6818838ce",
   "metadata": {},
   "source": [
    "> - La propiedad `focus` indica el comportamiento de la entrada al ingresar la informacion o al hacer clic o foco.\n",
    "> - `placeholder`: es la propiedade de la leyenda de la entrada o texto de ayuda"
   ]
  },
  {
   "cell_type": "markdown",
   "id": "f490495d-04aa-494f-ae3e-54d4cf53f0b7",
   "metadata": {},
   "source": [
    "8. Propiedades de los botones:"
   ]
  },
  {
   "cell_type": "markdown",
   "id": "2785fc8d-ec78-4e32-bfaa-9d04fcd865cd",
   "metadata": {},
   "source": [
    "```css\n",
    "actions {\n",
    "    display: flex;\n",
    "    justify-content: space-between;\n",
    "    /* enfrentados: uno a la izquierda y otro a la derecha */\n",
    "    gap: .5rem;\n",
    "}\n",
    "\n",
    ".actions button {\n",
    "    flex: 1 1 48%;\n",
    "    padding: .75rem;\n",
    "    border-radius: 8px;\n",
    "    font-size: 1rem;\n",
    "    cursor: pointer;\n",
    "    border: 1px solid transparent;\n",
    "}\n",
    "\n",
    ".btn-primary {\n",
    "    background: var(--accent);\n",
    "    color: #fff;\n",
    "    border-color: var(--accent);\n",
    "}\n",
    "\n",
    ".btn-secondary {\n",
    "    background: transparent;\n",
    "    color: var(--accent);\n",
    "    border-color: rgba(43, 108, 176, 0.12);\n",
    "    box-shadow: inset 0 0 0 1px rgba(43, 108, 176, 0.06);\n",
    "}\n",
    "\n",
    "@media (max-width:420px) {\n",
    "    .actions {\n",
    "        gap: .5rem;\n",
    "    }\n",
    "\n",
    "    .actions button {\n",
    "        flex-basis: 48%;\n",
    "    }\n",
    "}\n",
    "```"
   ]
  },
  {
   "cell_type": "markdown",
   "id": "8565581c-723d-4d87-966a-514a8327e0c6",
   "metadata": {},
   "source": [
    "### Explicacion"
   ]
  },
  {
   "cell_type": "markdown",
   "id": "90ec1b02-e87c-4513-b8bf-4ab19d2ff4e3",
   "metadata": {},
   "source": [
    "> Muestra la apariencia de los botones en el formulario, establece en la seudo clase `@media` el ancho maximo que se debe en el `viewport`"
   ]
  },
  {
   "cell_type": "markdown",
   "id": "adbc3f0b-9ed6-46d1-ae7f-595471e50aa7",
   "metadata": {},
   "source": [
    "9. Verifique si ha enlazado en el archivo `index.html` los estilos que se encuentran en el archivo `styles.css`"
   ]
  },
  {
   "cell_type": "markdown",
   "id": "eb7726d8-6be3-42bd-8de8-5fe65d9d4022",
   "metadata": {},
   "source": [
    "___"
   ]
  },
  {
   "cell_type": "markdown",
   "id": "d342349e-c65f-488e-b350-c9c5ad51e522",
   "metadata": {},
   "source": [
    "### Responda en su cuaderno (1103)"
   ]
  },
  {
   "cell_type": "markdown",
   "id": "679af20b-8f5b-4a87-a7c2-8435c4f3120a",
   "metadata": {},
   "source": [
    "> 1. En sus palabras que significa la seudoclase `root`?\n",
    "> 2. Que quiere decir que el nombre de la variable sea arbitrario?\n",
    "> 3. Que afecta la propiedad css `placeholder`?"
   ]
  },
  {
   "cell_type": "markdown",
   "id": "f6226134-da47-4727-9e87-589698e04e46",
   "metadata": {},
   "source": [
    "### Obtencion del sello"
   ]
  },
  {
   "cell_type": "markdown",
   "id": "8d2c1ae3-d8c7-40a6-b5ea-ae9e11f5e5ee",
   "metadata": {
    "slideshow": {
     "slide_type": "subslide"
    },
    "tags": []
   },
   "source": [
    "- Competencia: 3\n",
    "- Ámbito conceptual: Interacciones sencillas con JavaScript en HTML\n",
    "- Objetivo: Aplicar los estilos CSS necesario para el establecimiento de la apariencia de un elemento form en HTML."
   ]
  }
 ],
 "metadata": {
  "kernelspec": {
   "display_name": "Python 3 (ipykernel)",
   "language": "python",
   "name": "python3"
  },
  "language_info": {
   "codemirror_mode": {
    "name": "ipython",
    "version": 3
   },
   "file_extension": ".py",
   "mimetype": "text/x-python",
   "name": "python",
   "nbconvert_exporter": "python",
   "pygments_lexer": "ipython3",
   "version": "3.9.4"
  }
 },
 "nbformat": 4,
 "nbformat_minor": 5
}
