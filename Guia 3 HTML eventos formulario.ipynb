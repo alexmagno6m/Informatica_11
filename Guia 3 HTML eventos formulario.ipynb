{
 "cells": [
  {
   "cell_type": "markdown",
   "id": "c369c6e2-8247-41f8-84ba-634d4581e118",
   "metadata": {},
   "source": [
    "# Guia 3 HTML - Eventos de Formulario"
   ]
  },
  {
   "cell_type": "markdown",
   "id": "b5cb2aa3-823c-4a03-a738-808bd71525ae",
   "metadata": {},
   "source": [
    "- __Profesor: Alexander Acecedo Gómez__\n",
    "- __Ingeniero de sistemas__\n",
    "- __Magister en Modelado y Simulación__\n",
    "- @Alex6m"
   ]
  },
  {
   "cell_type": "markdown",
   "id": "59dd7e89-b09a-436b-b940-1b07e00acc27",
   "metadata": {},
   "source": [
    "### Obtención del sello"
   ]
  },
  {
   "cell_type": "markdown",
   "id": "8b04707a-6a97-41d2-9522-6c48e765e9a4",
   "metadata": {},
   "source": [
    "- Competencia: 3\n",
    "- Ámbito conceptual: Interacciones sencillas con JavaScript en HTML\n",
    "- Objetivo: Programar correctamente un script de JS que realice una validacion de datos sobre un formulario empleando los eventos necesarios con acierto y creatividad."
   ]
  },
  {
   "cell_type": "markdown",
   "id": "c99a7634-0cf7-48a1-86b1-b3411ddcde06",
   "metadata": {},
   "source": [
    "# El Proyecto: Formulario con campo de validación"
   ]
  },
  {
   "cell_type": "markdown",
   "id": "b93c75e7-84b5-430a-a25d-3ac40d2cf3f4",
   "metadata": {},
   "source": [
    "El objetivo del proyecto es crear una tarjeta de formulario que simule el login de una plataforma. JavaScript se empleará para validar la entrada del campo email, empleando el evento `input`, para verificar si la dirección de correo contiene los simbolos de  arroba `@` y punto `.` "
   ]
  },
  {
   "cell_type": "markdown",
   "id": "3b1b4383-51fc-4314-9e96-dfe1f4e2f38d",
   "metadata": {},
   "source": [
    "![formulario2](formulario2.png)"
   ]
  },
  {
   "cell_type": "markdown",
   "id": "4710652f-7545-4496-ad80-617c914589f9",
   "metadata": {},
   "source": [
    "## Primera parte - Creación del espacio de trabajo (todos los cursos)"
   ]
  },
  {
   "cell_type": "markdown",
   "id": "04dbc05f-de3d-4531-9ed3-da3400df8022",
   "metadata": {},
   "source": [
    "1. En su carpeta personal creamos un nuevo directorio llamado `eventos-formulario`:"
   ]
  },
  {
   "cell_type": "markdown",
   "id": "00cdf237-7abd-400c-abb2-ea0396aa73c3",
   "metadata": {},
   "source": [
    "```\n",
    "└── Informatica 11/\n",
    "    └── Su curso/\n",
    "        └── Su nombre/\n",
    "            └── Proyectos HTML/\n",
    "                └── eventos-formulario/\n",
    "```"
   ]
  },
  {
   "cell_type": "markdown",
   "id": "c7f466ef-f6f4-41d1-87f0-c43056367e88",
   "metadata": {},
   "source": [
    "2. Ahora en `VS-Code` abrimos esta carpeta y creamos los archivos acostumbrados:"
   ]
  },
  {
   "cell_type": "markdown",
   "id": "4f0e9f92-3803-4116-86b7-ae1be079979e",
   "metadata": {},
   "source": [
    "```\n",
    "└── eventos-formulario/\n",
    "    ├── css/\n",
    "    │   └── styles.css\n",
    "    ├── js/\n",
    "    │   └── script.js\n",
    "    └── index.html\n",
    "```"
   ]
  },
  {
   "cell_type": "markdown",
   "id": "f942c66d-47ec-4f7d-9b6a-a3e3bbde1e8d",
   "metadata": {},
   "source": [
    "El espacio de trabajo en `VS-Code` debe verse asi:"
   ]
  },
  {
   "cell_type": "markdown",
   "id": "ec2ff705-7c66-42d1-aa78-e039d8d39b7b",
   "metadata": {},
   "source": [
    "![formulario](formulario.png)"
   ]
  },
  {
   "cell_type": "markdown",
   "id": "67897033-a2c1-4992-85af-a6ed653ddc26",
   "metadata": {},
   "source": [
    "## Segunda Parte - Programando el archivo HTML (todos los cursos)"
   ]
  },
  {
   "cell_type": "markdown",
   "id": "6a874585-6a81-4d98-9c31-715f4f4a5819",
   "metadata": {},
   "source": [
    "1. Obtenemos la estructura general escribiendo en el archivo `index.html` el comando: `html:5`\n",
    "2. Como título de la página escribimoos `Eventos de formulario`\n",
    "3. Creamos el contenedor padre el cual envuelve todos los demas componentes del formulario, como selector creamos la clase:`contenedor`, cuidando de dejar un espacio libre entre las etiquetas de apertura y cierre:"
   ]
  },
  {
   "cell_type": "markdown",
   "id": "8125768f-8847-4d38-a8c3-f7b60e5c36bb",
   "metadata": {},
   "source": [
    "```\n",
    "<div class=\"contenedor\">\n",
    "\n",
    "</div>\n",
    "```"
   ]
  },
  {
   "cell_type": "markdown",
   "id": "47e9c9fa-d67f-434e-aca9-f025a10a2c55",
   "metadata": {},
   "source": [
    "4. En la linea en blanco del codigo anterior, agregamos un nuevo elemento `div` con la clase `card` dejando nuevamente una linea en blanco entre las dos etiquetas:"
   ]
  },
  {
   "cell_type": "markdown",
   "id": "0d70fb1b-ca95-4462-96ea-ba3d47c47e76",
   "metadata": {},
   "source": [
    "```\n",
    "<div class=\"card\">\n",
    "\n",
    "</div>\n",
    "```"
   ]
  },
  {
   "cell_type": "markdown",
   "id": "e7413b75-fe7b-4e0c-befd-a57688aa9a27",
   "metadata": {},
   "source": [
    "Dentro de la misma etiqueta de apertura, despues del selector de clase vamos a incluir algunos atributos nuevos: "
   ]
  },
  {
   "cell_type": "markdown",
   "id": "6c568019-dcfe-40ea-a9e3-edbeea10f29d",
   "metadata": {},
   "source": [
    "`role=\"region\" aria-labelledby=\"title\"`"
   ]
  },
  {
   "cell_type": "markdown",
   "id": "dd8868f3-861e-4ed6-ab87-2ea09588ea22",
   "metadata": {},
   "source": [
    "El código en esa linea deberia verse así:"
   ]
  },
  {
   "cell_type": "markdown",
   "id": "477c835c-abc1-44fc-8e22-84f822865314",
   "metadata": {},
   "source": [
    "![code2](code2.png)"
   ]
  },
  {
   "cell_type": "markdown",
   "id": "42b90dbd-a158-49d8-83a6-2445665b96d3",
   "metadata": {},
   "source": [
    "### Explicación"
   ]
  },
  {
   "cell_type": "markdown",
   "id": "db106939-53cb-489f-a01e-b7da395315f1",
   "metadata": {},
   "source": [
    "> - `role:\"region\"` - Es un atributo ARIA (Accessible Rich Internet Applications) que indica que este div es una región significativa de la página. Esto mejora la accesibilidad del sitio web.\n",
    "> - `aria-labelledby=\"title\"` - Este atributo ARIA conecta este contenedor con el elemento que tiene el ID `\"title\"` (que en este caso es el `<h1>` con el texto \"Iniciar sesión\" que se mostrará a continuación). Esto ayuda a los lectores de pantalla a identificar el propósito de esta sección."
   ]
  },
  {
   "cell_type": "markdown",
   "id": "52445bf5-ffaa-4ddc-9542-9a7df8dc4fc5",
   "metadata": {},
   "source": [
    "5. Continuamos en la linea en blanco que dejamos disponible en el punto 4, ahora escribimos un `h1` con el identificador `title` y con el texto: `iniciar sesion`"
   ]
  },
  {
   "cell_type": "markdown",
   "id": "b37f8c04-fcf3-45cd-8a6f-bfbc22f9af5b",
   "metadata": {},
   "source": [
    "![code3](code3.png)"
   ]
  },
  {
   "cell_type": "markdown",
   "id": "8a154851-b092-4ddd-9e06-951f1055236e",
   "metadata": {},
   "source": [
    "6. Al final de la linea del paso anterior presionamos enter para agregar otra línea en blanco y procedemos a crear los campos del formulario escribiento el elemento `form`:"
   ]
  },
  {
   "cell_type": "markdown",
   "id": "09e2cc07-61ec-42f3-970c-8fb9fab80a3e",
   "metadata": {},
   "source": [
    "`<form action=\"#\" method=\"post\" novalidate>`"
   ]
  },
  {
   "cell_type": "markdown",
   "id": "b5f8deb1-ec52-4105-a113-ba026ad10395",
   "metadata": {},
   "source": [
    "### Explicación"
   ]
  },
  {
   "cell_type": "markdown",
   "id": "cb977834-2d6c-4e0c-a4ae-df562e64e36f",
   "metadata": {},
   "source": [
    "> - `action=\"#\"`: define la URL donde se enviarán los datos al hacer submit. Cuando se esta en fase de desarrollo se suele emplear `#`. En producción se debe usar una url real.\n",
    "> - `method=\"post\"`: especifica el método HTTP para el envío. Post conduce los datos en el cuerpo de la petición (útil para credenciales, formularios que modifican estado).\n",
    "> - `novalidate`: atributo booleano que desactiva la validación nativa del navegador cuando se envía el formulario. Evitando que sea bloqueado automáticamente; se suele usar cuando la validación del formulario es administrada con JavaScript personalizado (más control sobre mensajes, estilos, accesibilidad), como en este caso."
   ]
  },
  {
   "cell_type": "markdown",
   "id": "e93446ca-7a53-44c9-aebd-a41866c674df",
   "metadata": {},
   "source": [
    "7. Entre las etiquetas `<form>` y `</form>` del paso anterior, procedemos a crear tres contenedores `div` uno debajo del otro, dejando una linea disponible entre las etiquetas de apertura y cierre:"
   ]
  },
  {
   "cell_type": "markdown",
   "id": "e367fed0-927b-44dc-9858-78917f310fe7",
   "metadata": {},
   "source": [
    "![code5](code5.png)"
   ]
  },
  {
   "cell_type": "markdown",
   "id": "ed0f5b56-fe45-41fa-a530-21a9cfd584a8",
   "metadata": {},
   "source": [
    "7. En el primer `div` procedemos a crear la primera fila del formulario compuesta por dos elementos: la etiqueta (`label`) correo electrónico y el campo (`input`) para ingresar la información, modifiquelo copiando la siguiente información:"
   ]
  },
  {
   "cell_type": "markdown",
   "id": "3e11d372-90d1-45dd-b6af-b27e2c368d34",
   "metadata": {},
   "source": [
    "```\n",
    "<div class=\"row\">\n",
    "    <label for=\"email\">Correo electrónico</label>\n",
    "    <input id=\"email\" name=\"email\" type=\"email\" placeholder=\"ejemplo@dominio.com\" required aria-required=\"true\" />\n",
    "    <p id=\"mensaje\"></p>\n",
    "    <script src=\"js/script.js\"></script>\n",
    "</div>\n",
    "```"
   ]
  },
  {
   "cell_type": "markdown",
   "id": "87ad4ba0-ce1d-442d-9fee-0e5b491991b6",
   "metadata": {},
   "source": [
    "> Adicionalmente aparece en el código el elemento `<p>` donde debe mostrarse el mensaje de validación, servirá para indicar si se digitó una direccion de correo electrónico correcta o mostrar una advetencia si es lo contrario. También se incluye el elemento `<script>` que enlaza al archivo de `JS` donde posteriormente programamos el evento de validación."
   ]
  },
  {
   "cell_type": "markdown",
   "id": "458cf3d8-2ad6-4635-8c32-731fb8fc94fa",
   "metadata": {},
   "source": [
    "8. Continuamos con el siguiente `div` para crear la segunda linea del formulario: el label `contraseña` y su correspondiente campo. modifíquelo como se muestra en la imagen:"
   ]
  },
  {
   "cell_type": "markdown",
   "id": "8637110a-36d7-4bca-b7c0-5d63dcf8e9d5",
   "metadata": {},
   "source": [
    "![code6](code6.png)"
   ]
  },
  {
   "cell_type": "markdown",
   "id": "cf36ade6-e9e1-4124-8d66-98a5dbb4ece4",
   "metadata": {},
   "source": [
    "### Explicación"
   ]
  },
  {
   "cell_type": "markdown",
   "id": "e66af273-9970-4b40-9574-c93de318008b",
   "metadata": {},
   "source": [
    "> - La clase `row` de ambas filas va a permitir aplicar estilos similares mas adelante en el `CSS`.\n",
    "> - El argumento `type=\"password\"` advierte que ese campo es para contraseñas y oculta los caracteres.\n",
    "> - El argumento `placeholder` muestra la leyenda atenuada para informar al usuario el tipo de campo."
   ]
  },
  {
   "cell_type": "markdown",
   "id": "a1c60647-f558-415c-9b42-de265f7b2642",
   "metadata": {},
   "source": [
    "9. Por último finalizamos con la linea 3, en el último `div`,  la cual incluye los botones de `ingresar` y `registrarse`, modifique el contenedor como se muestra en la imagen:"
   ]
  },
  {
   "cell_type": "markdown",
   "id": "bb78d0a7-428b-4fcd-ba59-77684d29730b",
   "metadata": {},
   "source": [
    "![code7](code7.png)"
   ]
  },
  {
   "cell_type": "markdown",
   "id": "1ab294c6-fc5d-40ea-832b-2b04ba65d355",
   "metadata": {},
   "source": [
    "10. Como recomendación presionamos las teclas __`alt` + `shift` + `f`__ para arreglar las indentaciones o tabulaciones del código"
   ]
  },
  {
   "cell_type": "markdown",
   "id": "a511a9bd-d2f2-49e5-8551-01e3bfa9183b",
   "metadata": {},
   "source": [
    "El código resultante deberia verse así:"
   ]
  },
  {
   "cell_type": "markdown",
   "id": "68cc010b-d97a-4b53-bcd3-bc25f8a1c060",
   "metadata": {},
   "source": [
    "![code4](code4.png)"
   ]
  },
  {
   "cell_type": "markdown",
   "id": "7ab20731-ad32-4c91-8b08-3fbc2e35f325",
   "metadata": {},
   "source": [
    "### Conteste en su cuaderno (1101)"
   ]
  },
  {
   "cell_type": "markdown",
   "id": "d5a3eeb5-87a2-44e2-bc72-bac5df49f5b5",
   "metadata": {},
   "source": [
    "1. Conteste en sus palabras porque en la version final o de producción de un sitio web se debe emplear una `url` real en el argumento `action=\"#\"`?\n",
    "2. Que función cumple el argumento `type=\"password\"` en el campo de un formulario?\n",
    "3. Como se afectaría la experiencia de los visitantes de un sitio web si en un formulario omitimos el argumento `placeholder`?"
   ]
  },
  {
   "cell_type": "markdown",
   "id": "769f42df-e991-43af-8cf2-ef240b482a79",
   "metadata": {},
   "source": [
    "### Conteste en su cuaderno (1103)"
   ]
  },
  {
   "cell_type": "markdown",
   "id": "828d70fc-e57c-4556-8208-6116c4241a0e",
   "metadata": {},
   "source": [
    "1. En sus palabras según lo explicado en la guía, indique qué sucede si se omite el atributo `role:\"region\"`?\n",
    "2. Por qué es importante incluir el atributo `aria-labelledby=\"title\"`?\n",
    "3. Qué ventaja representa el incluir el argumento `novalidate` dentro del elemento `form`?"
   ]
  }
 ],
 "metadata": {
  "kernelspec": {
   "display_name": "Python 3 (ipykernel)",
   "language": "python",
   "name": "python3"
  },
  "language_info": {
   "codemirror_mode": {
    "name": "ipython",
    "version": 3
   },
   "file_extension": ".py",
   "mimetype": "text/x-python",
   "name": "python",
   "nbconvert_exporter": "python",
   "pygments_lexer": "ipython3",
   "version": "3.12.1"
  }
 },
 "nbformat": 4,
 "nbformat_minor": 5
}
