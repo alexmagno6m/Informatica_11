{
 "cells": [
  {
   "cell_type": "markdown",
   "id": "289d5f6c",
   "metadata": {},
   "source": [
    "# Registration code"
   ]
  },
  {
   "cell_type": "markdown",
   "id": "4defa961",
   "metadata": {},
   "source": [
    "A continuacion usted encontrara el codigo que le permitira acceder a la plataforma __ClassMarker__, tenga en cuenta:\n",
    "- EL codigo es personal e intransferible\n",
    "- No use el codigo asignado a otra persona, esto le implicará sanciones\n",
    "- El codigo solo se puede usar __UNA VEZ__"
   ]
  },
  {
   "cell_type": "markdown",
   "id": "50a55a6b",
   "metadata": {},
   "source": [
    "## Codigos"
   ]
  },
  {
   "cell_type": "code",
   "execution_count": null,
   "id": "10bb99ea",
   "metadata": {},
   "outputs": [],
   "source": []
  }
 ],
 "metadata": {
  "kernelspec": {
   "display_name": "Python 3 (ipykernel)",
   "language": "python",
   "name": "python3"
  },
  "language_info": {
   "codemirror_mode": {
    "name": "ipython",
    "version": 3
   },
   "file_extension": ".py",
   "mimetype": "text/x-python",
   "name": "python",
   "nbconvert_exporter": "python",
   "pygments_lexer": "ipython3",
   "version": "3.9.7"
  }
 },
 "nbformat": 4,
 "nbformat_minor": 5
}
